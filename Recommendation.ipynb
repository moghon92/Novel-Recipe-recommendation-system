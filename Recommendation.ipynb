{
 "cells": [
  {
   "cell_type": "code",
   "execution_count": 20,
   "metadata": {},
   "outputs": [],
   "source": [
    "import os\n",
    "import regex as re\n",
    "import pandas as pd\n",
    "import numpy as np\n",
    "import matplotlib.pyplot as plt\n",
    "import scipy as sp\n",
    "import scipy.sparse\n",
    "import json\n",
    "from sklearn.decomposition import PCA,TruncatedSVD\n",
    "from sklearn.feature_extraction.text import CountVectorizer\n",
    "%matplotlib inline\n",
    "from tqdm import tqdm\n",
    "\n",
    "import warnings\n",
    "warnings.filterwarnings('ignore')"
   ]
  },
  {
   "cell_type": "code",
   "execution_count": 5,
   "metadata": {},
   "outputs": [],
   "source": [
    "## functior to visualize a saprse scipi matrix\n",
    "def spy(A, figsize=(4, 100), markersize=0.1):\n",
    "    \"\"\"Visualizes a sparse matrix.\"\"\"\n",
    "    fig = plt.figure(figsize=figsize)\n",
    "    plt.spy(A, markersize=markersize)\n",
    "    plt.show()"
   ]
  },
  {
   "cell_type": "code",
   "execution_count": 6,
   "metadata": {},
   "outputs": [],
   "source": [
    "def rec2id(df):\n",
    "    '''\n",
    "    takes ingriedient list and returns a dict that maps ingredient ids to index\n",
    "    '''\n",
    "    recs = df['RecipeID'].unique()\n",
    "    return {v:i for i,v in enumerate(recs) }"
   ]
  },
  {
   "cell_type": "code",
   "execution_count": 7,
   "metadata": {},
   "outputs": [],
   "source": [
    "def id2rec(df):\n",
    "    '''\n",
    "    takes ingriedient list and returns a dict that maps ingredient ids to index\n",
    "    '''\n",
    "    recs = df['RecipeID'].unique()\n",
    "    return {i:v for i,v in enumerate(recs) }"
   ]
  },
  {
   "cell_type": "code",
   "execution_count": 8,
   "metadata": {},
   "outputs": [],
   "source": [
    "def user2id(df):\n",
    "    '''\n",
    "    takes ingriedient list and returns a dict that maps ingredient ids to index\n",
    "    '''\n",
    "    users = df['profileID'].unique()\n",
    "    return { v:i for i,v in enumerate(users) }"
   ]
  },
  {
   "cell_type": "code",
   "execution_count": 9,
   "metadata": {},
   "outputs": [],
   "source": [
    "def id2user(df):\n",
    "    '''\n",
    "    takes ingriedient list and returns a dict that maps ingredient ids to index\n",
    "    '''\n",
    "    users = df['profileID'].unique()\n",
    "    return { i:v for i,v in enumerate(users) }"
   ]
  },
  {
   "cell_type": "code",
   "execution_count": 10,
   "metadata": {},
   "outputs": [],
   "source": [
    "rev_filepath = os.getcwd() + '\\\\data\\\\reviews.csv'\n",
    "rec_filepath = 'output.csv'"
   ]
  },
  {
   "cell_type": "code",
   "execution_count": 11,
   "metadata": {},
   "outputs": [],
   "source": [
    "df_rev= pd.read_csv(rev_filepath, sep=';', error_bad_lines=False, warn_bad_lines=False, encoding= 'unicode_escape')\n",
    "df_rec= pd.read_csv(rec_filepath, sep=',', error_bad_lines=False, warn_bad_lines=False, encoding= 'unicode_escape')['RecipeID']"
   ]
  },
  {
   "cell_type": "code",
   "execution_count": 12,
   "metadata": {},
   "outputs": [],
   "source": [
    "df_rev['flag_num'] = df_rev['RecipeID'].apply(lambda x: 1 if str(x).isnumeric() else 0)\n",
    "df_rev = df_rev[df_rev['flag_num']==1]\n",
    "df_rev['RecipeID'] = df_rev['RecipeID'].astype(int)\n",
    "\n",
    "del df_rev['flag_num']"
   ]
  },
  {
   "cell_type": "code",
   "execution_count": 13,
   "metadata": {},
   "outputs": [],
   "source": [
    "df_rev['flag_num'] = df_rev['Rate'].apply(lambda x: 1 if str(x).isnumeric() else 0)\n",
    "df_rev = df_rev[df_rev['flag_num']==1]\n",
    "df_rev['Rate'] = df_rev['Rate'].astype(int)\n",
    "\n",
    "del df_rev['flag_num']"
   ]
  },
  {
   "cell_type": "code",
   "execution_count": 14,
   "metadata": {},
   "outputs": [
    {
     "data": {
      "text/html": [
       "<div>\n",
       "<style scoped>\n",
       "    .dataframe tbody tr th:only-of-type {\n",
       "        vertical-align: middle;\n",
       "    }\n",
       "\n",
       "    .dataframe tbody tr th {\n",
       "        vertical-align: top;\n",
       "    }\n",
       "\n",
       "    .dataframe thead th {\n",
       "        text-align: right;\n",
       "    }\n",
       "</style>\n",
       "<table border=\"1\" class=\"dataframe\">\n",
       "  <thead>\n",
       "    <tr style=\"text-align: right;\">\n",
       "      <th></th>\n",
       "      <th>RecipeID</th>\n",
       "      <th>profileID</th>\n",
       "      <th>Rate</th>\n",
       "      <th>Comment</th>\n",
       "    </tr>\n",
       "  </thead>\n",
       "  <tbody>\n",
       "    <tr>\n",
       "      <th>0</th>\n",
       "      <td>7000</td>\n",
       "      <td>675719</td>\n",
       "      <td>5</td>\n",
       "      <td>'Oh Yay!  I''ve never made any kind of bread f...</td>\n",
       "    </tr>\n",
       "    <tr>\n",
       "      <th>1</th>\n",
       "      <td>7000</td>\n",
       "      <td>1478626</td>\n",
       "      <td>5</td>\n",
       "      <td>These rolls are wonderful. I had to bake them ...</td>\n",
       "    </tr>\n",
       "    <tr>\n",
       "      <th>2</th>\n",
       "      <td>7000</td>\n",
       "      <td>608663</td>\n",
       "      <td>5</td>\n",
       "      <td>This recipe was made for a group of 120 in a c...</td>\n",
       "    </tr>\n",
       "    <tr>\n",
       "      <th>3</th>\n",
       "      <td>7000</td>\n",
       "      <td>2785736</td>\n",
       "      <td>5</td>\n",
       "      <td>WOO HOO.. I did it with the help from my fello...</td>\n",
       "    </tr>\n",
       "    <tr>\n",
       "      <th>4</th>\n",
       "      <td>7000</td>\n",
       "      <td>594474</td>\n",
       "      <td>5</td>\n",
       "      <td>'These are great!! Not a croissant, but much l...</td>\n",
       "    </tr>\n",
       "  </tbody>\n",
       "</table>\n",
       "</div>"
      ],
      "text/plain": [
       "   RecipeID profileID  Rate                                            Comment\n",
       "0      7000    675719     5  'Oh Yay!  I''ve never made any kind of bread f...\n",
       "1      7000   1478626     5  These rolls are wonderful. I had to bake them ...\n",
       "2      7000    608663     5  This recipe was made for a group of 120 in a c...\n",
       "3      7000   2785736     5  WOO HOO.. I did it with the help from my fello...\n",
       "4      7000    594474     5  'These are great!! Not a croissant, but much l..."
      ]
     },
     "execution_count": 14,
     "metadata": {},
     "output_type": "execute_result"
    }
   ],
   "source": [
    "df_m = df_rev.merge(df_rec, on='RecipeID' )[df_rev.columns]\n",
    "df_m.head()"
   ]
  },
  {
   "cell_type": "code",
   "execution_count": 15,
   "metadata": {},
   "outputs": [
    {
     "name": "stdout",
     "output_type": "stream",
     "text": [
      "<class 'pandas.core.frame.DataFrame'>\n",
      "Int64Index: 912548 entries, 0 to 912547\n",
      "Data columns (total 4 columns):\n",
      " #   Column     Non-Null Count   Dtype \n",
      "---  ------     --------------   ----- \n",
      " 0   RecipeID   912548 non-null  int32 \n",
      " 1   profileID  912548 non-null  object\n",
      " 2   Rate       912548 non-null  int32 \n",
      " 3   Comment    912430 non-null  object\n",
      "dtypes: int32(2), object(2)\n",
      "memory usage: 27.8+ MB\n"
     ]
    }
   ],
   "source": [
    "df_m.info()"
   ]
  },
  {
   "cell_type": "code",
   "execution_count": 16,
   "metadata": {},
   "outputs": [],
   "source": [
    "df_m = df_m.groupby(['profileID','RecipeID'])['Rate'].max().sort_values().reset_index().copy()"
   ]
  },
  {
   "cell_type": "code",
   "execution_count": 17,
   "metadata": {},
   "outputs": [],
   "source": [
    "r2id = rec2id(df_m)\n",
    "id2r = id2rec(df_m)\n",
    "u2id = user2id(df_m)\n",
    "id2u = id2user(df_m)"
   ]
  },
  {
   "cell_type": "code",
   "execution_count": 18,
   "metadata": {},
   "outputs": [],
   "source": [
    "df_m['rid'] = df_m['RecipeID'].apply(lambda x: r2id[x])\n",
    "df_m['uid'] = df_m['profileID'].apply(lambda x: u2id[x])"
   ]
  },
  {
   "cell_type": "code",
   "execution_count": 21,
   "metadata": {},
   "outputs": [
    {
     "name": "stderr",
     "output_type": "stream",
     "text": [
      "100%|████████████████████████████████████████████████████████████████████████████| 10000/10000 [27:37<00:00,  6.03it/s]\n"
     ]
    }
   ],
   "source": [
    "### build sparse csr matrix\n",
    "rows = []\n",
    "cols = []\n",
    "vals = []\n",
    "\n",
    "for user_id in tqdm(list(u2id.keys())[:10000]):\n",
    "    s = df_m[df_m['profileID']==user_id][['uid','rid','Rate']]\n",
    "    \n",
    "    \n",
    "    rows+=s['uid'].to_list()\n",
    "    cols+=s['rid'].to_list()\n",
    "    vals+=s['Rate'].to_list()\n",
    "\n"
   ]
  },
  {
   "cell_type": "code",
   "execution_count": 22,
   "metadata": {},
   "outputs": [
    {
     "data": {
      "image/png": "[encoded data removed]",
      "text/plain": [
       "<Figure size 288x7200 with 1 Axes>"
      ]
     },
     "metadata": {
      "needs_background": "light"
     },
     "output_type": "display_data"
    }
   ],
   "source": [
    "P = sp.sparse.csr_matrix((vals,(rows, cols)),shape=(np.max(rows)+1, np.max(cols)+1), dtype=float)\n",
    "spy(P.A)\n"
   ]
  },
  {
   "cell_type": "code",
   "execution_count": 23,
   "metadata": {},
   "outputs": [],
   "source": [
    "P=P.todense()"
   ]
  },
  {
   "cell_type": "code",
   "execution_count": 24,
   "metadata": {},
   "outputs": [
    {
     "data": {
      "text/plain": [
       "5.0"
      ]
     },
     "execution_count": 24,
     "metadata": {},
     "output_type": "execute_result"
    }
   ],
   "source": [
    "np.max(P)"
   ]
  },
  {
   "cell_type": "markdown",
   "metadata": {},
   "source": [
    "## keep only top 500 similar users"
   ]
  },
  {
   "cell_type": "code",
   "execution_count": 25,
   "metadata": {},
   "outputs": [],
   "source": [
    "from sklearn.metrics.pairwise import cosine_similarity\n",
    "I = cosine_similarity(P, dense_output=True)"
   ]
  },
  {
   "cell_type": "code",
   "execution_count": 26,
   "metadata": {},
   "outputs": [],
   "source": [
    "I-=np.identity(I.shape[0])"
   ]
  },
  {
   "cell_type": "code",
   "execution_count": 27,
   "metadata": {},
   "outputs": [
    {
     "data": {
      "text/plain": [
       "(10000, 10000)"
      ]
     },
     "execution_count": 27,
     "metadata": {},
     "output_type": "execute_result"
    }
   ],
   "source": [
    "I.shape"
   ]
  },
  {
   "cell_type": "code",
   "execution_count": 28,
   "metadata": {},
   "outputs": [
    {
     "data": {
      "text/plain": [
       "array([  90, 6730, 3691, 6571, 6810, 4462, 9907, 5978, 5729, 2602,   23,\n",
       "       6847, 8939, 6164, 6751, 4045,   66, 7531, 1444, 2507, 6823, 4043,\n",
       "       3509,  456, 4143, 8007,  272, 2161, 6954, 6361, 1900, 7954, 7997,\n",
       "       6429, 3901, 2114, 9601, 7296, 9700,  619, 8362, 8446, 9654, 8875,\n",
       "       4971, 2229, 2125, 1167, 6472, 1729, 2741, 4638, 7057, 6827,  586,\n",
       "       7657, 6719, 3774, 5361, 7586, 3498, 5475, 8276, 1373, 8686, 5339,\n",
       "       4183, 3361,  389, 9614, 2231, 5563, 2287, 3183, 8543, 3761, 9532,\n",
       "       3571, 8253, 2156,   89, 4625, 6412, 8375, 8767, 3663, 2658, 2005,\n",
       "       7752, 1092, 9329, 6701, 6702, 6666, 6669, 6665, 6670, 6668, 6700,\n",
       "       6664, 6699, 6663, 6671, 6667, 6672, 6684, 6697, 6685, 6686, 6662,\n",
       "       6687, 6683, 6688, 6682, 6681, 6680, 6689, 6679, 6690, 6678, 6677,\n",
       "       6691, 6692, 6693, 6676, 6694, 6695, 6696, 6674, 6673, 6698, 6675,\n",
       "       4999, 6660, 6610, 6611, 6612, 6613, 6614, 6615, 6609, 6616, 6618,\n",
       "       6619, 6620, 6621, 6622, 6623, 6617, 6624, 6608, 6606, 6592, 6593,\n",
       "       6594, 6595, 6596, 6597, 6607, 6598, 6600, 6601, 6602, 6603, 6604,\n",
       "       6605, 6599, 6661, 6625, 6627, 6646, 6647, 6648, 6649, 6650, 6651,\n",
       "       6645, 6652, 6654, 6655, 6656, 6657, 6658, 6659, 6653, 6626, 6644,\n",
       "       6642, 6628, 6629, 6630, 6631, 6632, 6633, 6643, 6634, 6636, 6637,\n",
       "       6638, 6639, 6640, 6641, 6635, 6703, 6724, 6705, 6805, 6806, 6807,\n",
       "       6808, 6809, 6811, 6812, 6813, 6814, 6815, 6816, 6817, 6818, 6819,\n",
       "       6820, 6804, 6821, 6803, 6801, 6786, 6787, 6788, 6789, 6790, 6791,\n",
       "       6792, 6793, 6794, 6795, 6796, 6797, 6798, 6799, 6800, 6802, 6785,\n",
       "       6822, 6825, 6846, 6848, 6849, 6850, 6851, 6852, 6853, 6854, 6855,\n",
       "       6856, 6857, 6858, 6859, 6860, 6861, 6845, 6824, 6844, 6842, 6826,\n",
       "       6828, 6829, 6830, 6831, 6832, 6833, 6834, 6835, 6836, 6837, 6838,\n",
       "       6839, 6840, 6841, 6843, 6784, 6783, 6782, 6726, 6727, 6728, 6729,\n",
       "       6731, 6732, 6733, 6734, 6735, 6736, 6737, 6738, 6739, 6740, 6741,\n",
       "       6725, 6742, 6591, 6722, 6706, 6707, 6708, 6709, 6710, 6711, 6712,\n",
       "       6713, 6714, 6715, 6716, 6717, 6718, 6720, 6721, 6723, 6743, 6744,\n",
       "       6745, 6767, 6768, 6769, 6770, 6771, 6772, 6773, 6774, 6775, 6776,\n",
       "       6777, 6778, 6779, 6780, 6781, 6766, 6765, 6764, 6763, 6746, 6747,\n",
       "       6748, 6749, 6750, 6752, 6753, 6704, 6754, 6756, 6757, 6758, 6759,\n",
       "       6760, 6761, 6762, 6755, 6590, 6567, 6588, 6376, 6377, 6378, 6379,\n",
       "       6380, 6381, 6382, 6383, 6384, 6385, 6386, 6387, 6388, 6389, 6390,\n",
       "       6375, 6391, 6374, 6372, 6356, 6357, 6358, 6359, 6360, 6362, 6363,\n",
       "       6364, 6365, 6366, 6367, 6368, 6369, 6370, 6371, 6373, 6392, 6393,\n",
       "       6394, 6416, 6417, 6418, 6419, 6420, 6421, 6422, 6423, 6424, 6425,\n",
       "       6426, 6427, 6428, 6430, 6431, 6415, 6414, 6413, 6411, 6395, 6396,\n",
       "       6397, 6398, 6399, 6400, 6401, 6355, 6402, 6404, 6405, 6406, 6407,\n",
       "       6408, 6409, 6410, 6403, 6432, 6354, 6352, 6298, 6299, 6300, 6301,\n",
       "       6302, 6303, 6304, 6305, 6306, 6307, 6308, 6309, 6310, 6311, 6312,\n",
       "       6297, 6313, 6296, 6294, 6279, 6280, 6281, 6282, 6283, 6284, 6285,\n",
       "       6286, 6287, 6288, 6289, 6290, 6291, 6292, 6293, 6295, 6314, 6315,\n",
       "       6316, 6337, 6338, 6339, 6340, 6341, 6342, 6343, 6344, 6345, 6346,\n",
       "       6347, 6348, 6349, 6350, 6351, 6336, 6335, 6334, 6333, 6317, 6318,\n",
       "       6319, 6320, 6321, 6322, 6323], dtype=int64)"
      ]
     },
     "execution_count": 28,
     "metadata": {},
     "output_type": "execute_result"
    }
   ],
   "source": [
    "users = np.argsort(-I[0])[:500]\n",
    "users"
   ]
  },
  {
   "cell_type": "code",
   "execution_count": 29,
   "metadata": {},
   "outputs": [
    {
     "data": {
      "text/plain": [
       "(500, 5391)"
      ]
     },
     "execution_count": 29,
     "metadata": {},
     "output_type": "execute_result"
    }
   ],
   "source": [
    "P_new = P[users,:]\n",
    "P_new.shape"
   ]
  },
  {
   "cell_type": "code",
   "execution_count": 30,
   "metadata": {},
   "outputs": [
    {
     "data": {
      "text/plain": [
       "5.0"
      ]
     },
     "execution_count": 30,
     "metadata": {},
     "output_type": "execute_result"
    }
   ],
   "source": [
    "P_new.max()"
   ]
  },
  {
   "cell_type": "markdown",
   "metadata": {},
   "source": [
    "# matrix completion"
   ]
  },
  {
   "cell_type": "code",
   "execution_count": 33,
   "metadata": {},
   "outputs": [],
   "source": [
    "#P_new = P_new_old.copy()"
   ]
  },
  {
   "cell_type": "code",
   "execution_count": 45,
   "metadata": {},
   "outputs": [],
   "source": [
    "P_new_old = P_new.copy()"
   ]
  },
  {
   "cell_type": "code",
   "execution_count": 46,
   "metadata": {},
   "outputs": [],
   "source": [
    "sample = [np.random.rand(P_new.shape[0],P_new.shape[1])<=0.1]\n",
    "sample = np.multiply(sample[0],(P_new>0))"
   ]
  },
  {
   "cell_type": "code",
   "execution_count": 47,
   "metadata": {},
   "outputs": [
    {
     "data": {
      "text/plain": [
       "matrix([[1., 1., 5., 5., 3., 1., 1., 5., 5., 1., 5., 5., 5., 5., 5., 4.,\n",
       "         4., 5., 5., 4., 3., 4., 4., 5., 4., 5., 5., 5., 4., 4., 4., 4.,\n",
       "         5., 5., 1., 4., 4., 1., 5., 3., 5., 5., 5., 4., 5., 5., 4., 4.,\n",
       "         5., 4., 4., 5., 2., 4., 3., 1., 2., 4., 3., 4., 1., 1., 3., 4.,\n",
       "         1., 5., 5., 3., 5., 5., 4., 5., 4., 4., 3., 4., 1., 5., 4., 4.,\n",
       "         5., 4., 4., 5., 4., 2., 1., 3., 4., 5., 5., 5., 5., 5., 5., 2.,\n",
       "         4., 5., 4., 4., 3., 4., 4., 3., 4., 4., 4., 3., 4., 5., 5., 5.,\n",
       "         3., 4., 3., 5., 2., 4., 4., 5., 5., 1., 2., 4., 5., 2., 4., 4.,\n",
       "         5., 5., 5., 5., 5., 5., 4., 5., 4., 4., 5., 5., 4., 5., 5., 5.,\n",
       "         5., 3., 4., 3., 1., 3., 4., 2., 4., 3., 3., 5., 5., 1., 5., 5.,\n",
       "         4., 5., 5., 5., 4., 5., 4., 4., 4., 5., 3., 4., 3., 4., 3., 4.,\n",
       "         4., 4., 5., 4., 4., 4., 4., 4., 1., 1., 5., 2., 4., 2., 4., 4.,\n",
       "         4., 5., 5., 4., 5., 4., 5., 4., 3., 3., 4., 3., 4., 5., 5., 5.,\n",
       "         4., 2., 1., 5., 5., 5., 5., 2., 2., 4., 5., 5., 4., 5., 4., 1.,\n",
       "         5., 2., 1., 5., 5., 3., 5., 1., 5., 5., 1., 5., 4., 5., 5., 1.,\n",
       "         5., 5., 5., 5., 2., 4., 5., 4., 2., 5., 5., 5., 5., 1., 4., 5.,\n",
       "         4., 5., 5., 1., 4., 5., 5., 1., 4., 5., 5., 5., 4., 5., 5., 5.,\n",
       "         5., 5., 5., 1., 5., 5., 5., 3., 4., 5., 5., 4., 5., 5., 5., 5.,\n",
       "         4., 1., 3., 2., 3., 1., 5., 5., 1., 1., 5., 5., 5., 5., 4., 5.,\n",
       "         5., 4., 5., 5., 5., 4., 5., 5., 4., 4., 1., 5., 5., 1., 5., 5.,\n",
       "         5., 1., 5., 4., 5., 5., 4., 5., 5., 5., 1., 3., 5., 4., 1., 2.,\n",
       "         1., 2., 4., 1., 1., 4., 5., 1., 5., 5., 3., 3., 3., 4., 1., 5.,\n",
       "         3., 3., 5., 5., 5., 5., 3., 5., 4., 1., 5., 4., 3., 5., 4., 1.,\n",
       "         4., 4., 4., 5., 5., 5., 5., 5., 3., 5., 1., 5., 4., 4., 4., 4.,\n",
       "         5., 5., 1., 5., 5., 5., 1., 5., 5., 5., 3., 5., 5., 5., 4., 4.,\n",
       "         3., 4., 1., 2., 4., 1., 3.]])"
      ]
     },
     "execution_count": 47,
     "metadata": {},
     "output_type": "execute_result"
    }
   ],
   "source": [
    "P_new_old[sample]"
   ]
  },
  {
   "cell_type": "code",
   "execution_count": 48,
   "metadata": {},
   "outputs": [],
   "source": [
    "P_new[sample]=0"
   ]
  },
  {
   "cell_type": "code",
   "execution_count": 49,
   "metadata": {},
   "outputs": [
    {
     "data": {
      "text/plain": [
       "matrix([[0., 0., 0., ..., 0., 0., 0.],\n",
       "        [0., 0., 0., ..., 0., 0., 0.],\n",
       "        [0., 0., 0., ..., 0., 0., 0.],\n",
       "        ...,\n",
       "        [0., 0., 0., ..., 0., 0., 0.],\n",
       "        [0., 0., 0., ..., 0., 0., 0.],\n",
       "        [0., 0., 0., ..., 0., 0., 0.]])"
      ]
     },
     "execution_count": 49,
     "metadata": {},
     "output_type": "execute_result"
    }
   ],
   "source": [
    "P_new"
   ]
  },
  {
   "cell_type": "code",
   "execution_count": 50,
   "metadata": {},
   "outputs": [],
   "source": [
    "A = P_new==0\n",
    "m=np.sum(A)"
   ]
  },
  {
   "cell_type": "code",
   "execution_count": 51,
   "metadata": {},
   "outputs": [
    {
     "data": {
      "text/plain": [
       "427"
      ]
     },
     "execution_count": 51,
     "metadata": {},
     "output_type": "execute_result"
    }
   ],
   "source": [
    "np.linalg.matrix_rank(P_new)"
   ]
  },
  {
   "cell_type": "code",
   "execution_count": 52,
   "metadata": {},
   "outputs": [],
   "source": [
    "Y = np.zeros([P_new.shape[0], P_new.shape[1]])"
   ]
  },
  {
   "cell_type": "code",
   "execution_count": 53,
   "metadata": {},
   "outputs": [
    {
     "data": {
      "text/plain": [
       "2692104"
      ]
     },
     "execution_count": 53,
     "metadata": {},
     "output_type": "execute_result"
    }
   ],
   "source": [
    "m"
   ]
  },
  {
   "cell_type": "code",
   "execution_count": 54,
   "metadata": {},
   "outputs": [],
   "source": [
    "delta = (P_new.shape[0]*P_new.shape[1])/m\n",
    "tau=250"
   ]
  },
  {
   "cell_type": "code",
   "execution_count": 55,
   "metadata": {},
   "outputs": [
    {
     "name": "stderr",
     "output_type": "stream",
     "text": [
      " 12%|████████▊                                                                  | 1181/10000 [09:45<1:12:48,  2.02it/s]\n"
     ]
    }
   ],
   "source": [
    "errors = []\n",
    "from tqdm import tqdm\n",
    "for i in tqdm(range(10000)):\n",
    "    U,S,Vh = np.linalg.svd(Y, full_matrices=False)\n",
    "    S_t = np.diag(S-tau)\n",
    "    S_t[S_t<0] = 0\n",
    "    Z = U@S_t@Vh\n",
    "    H = P_new-Z\n",
    "    H[A] = 0\n",
    "    Y0 = Y.copy()\n",
    "    Y = Y0+(delta*H)\n",
    "    \n",
    "    \n",
    "    err = np.linalg.norm(Y-Y0, ord='fro')\n",
    "    errors.append(err)\n",
    "    \n",
    "    if np.linalg.norm(Y-Y0, ord='fro')<0.01:\n",
    "        break\n",
    "    "
   ]
  },
  {
   "cell_type": "code",
   "execution_count": 57,
   "metadata": {},
   "outputs": [
    {
     "data": {
      "text/plain": [
       "Text(0, 0.5, 'error')"
      ]
     },
     "execution_count": 57,
     "metadata": {},
     "output_type": "execute_result"
    },
    {
     "data": {
      "image/png": "[encoded data removed]",
      "text/plain": [
       "<Figure size 432x288 with 1 Axes>"
      ]
     },
     "metadata": {
      "needs_background": "light"
     },
     "output_type": "display_data"
    }
   ],
   "source": [
    "plt.plot(errors)\n",
    "plt.xlabel('itteration')\n",
    "plt.ylabel('error')\n"
   ]
  },
  {
   "cell_type": "code",
   "execution_count": 457,
   "metadata": {},
   "outputs": [],
   "source": [
    "Z[Z<0] = 0"
   ]
  },
  {
   "cell_type": "code",
   "execution_count": 458,
   "metadata": {},
   "outputs": [
    {
     "data": {
      "text/plain": [
       "matrix([[0., 0., 0., ..., 0., 0., 0.],\n",
       "        [0., 0., 0., ..., 0., 0., 0.],\n",
       "        [0., 0., 0., ..., 0., 0., 0.],\n",
       "        ...,\n",
       "        [0., 0., 0., ..., 0., 0., 0.],\n",
       "        [0., 0., 0., ..., 0., 0., 0.],\n",
       "        [1., 0., 0., ..., 0., 0., 0.]])"
      ]
     },
     "execution_count": 458,
     "metadata": {},
     "output_type": "execute_result"
    }
   ],
   "source": [
    "np.round(Z)"
   ]
  },
  {
   "cell_type": "code",
   "execution_count": null,
   "metadata": {},
   "outputs": [],
   "source": []
  },
  {
   "cell_type": "code",
   "execution_count": 459,
   "metadata": {},
   "outputs": [
    {
     "data": {
      "text/plain": [
       "matrix([[0., 0., 1., 0., 0., 0., 0., 0., 0., 0., 0., 1., 0., 0., 0., 0.,\n",
       "         0., 0., 0., 0., 0., 3., 0., 0., 0., 0., 0., 0., 1., 0., 0., 0.,\n",
       "         0., 0., 0., 0., 0., 0., 0., 0., 0., 1., 0., 0., 0., 0., 0., 0.,\n",
       "         0., 0., 0., 0., 0., 0., 0., 0., 1., 0., 2., 0., 0., 0., 0., 0.,\n",
       "         0., 0., 0., 0., 0., 0., 0., 0., 0., 0., 1., 0., 0., 0., 0., 0.,\n",
       "         0., 0., 0., 2., 0., 0., 0., 2., 0., 0., 0., 0., 0., 0., 0., 0.,\n",
       "         0., 0., 0., 0., 0., 0., 0., 0., 0., 0., 0., 2., 0., 0., 0., 1.,\n",
       "         0., 0., 0., 0., 0., 0., 0., 0., 0., 0., 0., 0., 0., 1., 0., 0.,\n",
       "         0., 0., 0., 0., 0., 0., 0., 0., 0., 0., 0., 0., 0., 0., 0., 0.,\n",
       "         1., 0., 0., 1., 0., 0., 0., 0., 0., 0., 1., 0., 0., 0., 1., 0.,\n",
       "         0., 0., 0., 1., 0., 0., 1., 1., 0., 0., 0., 0., 0., 0., 0., 0.,\n",
       "         0., 1., 0., 0., 0., 0., 0., 0., 0., 1., 1., 0., 2., 0., 0., 0.,\n",
       "         0., 0., 0., 0., 0., 1., 0., 0., 0., 0., 0., 1., 0., 0., 0., 0.,\n",
       "         0., 1., 1., 0., 0., 0., 0., 0., 0., 0., 0., 0., 0., 0., 0., 0.,\n",
       "         0., 0., 0., 0., 0., 0., 0., 0., 1., 0., 0., 1., 0., 1., 0., 0.,\n",
       "         0., 0., 0., 0., 0., 0., 0., 0., 0., 0., 0., 1., 0., 0., 0., 0.,\n",
       "         0., 0., 0., 0., 0., 1., 0., 0., 0., 0., 0., 0., 0., 0., 0., 0.,\n",
       "         0., 0., 0., 0., 0., 0., 0., 0., 0., 0., 0., 0., 0., 0., 0., 0.,\n",
       "         0., 0., 0., 0., 0., 0., 0., 0., 0., 0., 0., 0., 1., 0., 0., 0.,\n",
       "         0., 0., 0., 0., 1., 1., 0., 0., 0., 0., 0., 0., 0., 0., 0., 0.,\n",
       "         0., 1., 0., 0., 0., 0., 0., 0., 0., 0., 0., 0., 0., 0., 0., 0.,\n",
       "         0., 0., 0., 0., 0., 0., 0., 0., 0., 0., 0., 2., 0., 0., 0., 0.,\n",
       "         1., 0., 0., 0., 0., 0., 0., 0., 0., 0., 0., 0., 0., 0., 0., 0.,\n",
       "         0., 0., 0., 0., 0., 0., 0., 0., 0., 0., 0., 0., 0., 0., 0., 0.,\n",
       "         0., 0., 0., 0., 0., 0., 0., 0., 0., 1., 1., 0., 1., 0., 0., 0.,\n",
       "         0., 0., 0., 0., 0., 0., 0., 0., 0., 0., 0., 0., 0., 0., 0., 0.,\n",
       "         0., 0., 0., 0., 1., 2., 0., 0., 0., 0., 0., 0., 0., 0., 0., 0.,\n",
       "         0., 0., 0., 0., 0.]])"
      ]
     },
     "execution_count": 459,
     "metadata": {},
     "output_type": "execute_result"
    }
   ],
   "source": [
    "np.round(Z[sample])"
   ]
  },
  {
   "cell_type": "code",
   "execution_count": 460,
   "metadata": {},
   "outputs": [
    {
     "data": {
      "text/plain": [
       "matrix([[5., 4., 5., 5., 5., 4., 5., 5., 5., 5., 4., 3., 4., 5., 4., 4.,\n",
       "         4., 4., 4., 5., 5., 5., 5., 3., 5., 5., 5., 5., 3., 5., 4., 5.,\n",
       "         5., 3., 4., 5., 1., 5., 4., 5., 5., 5., 5., 4., 3., 3., 4., 5.,\n",
       "         5., 4., 5., 3., 2., 3., 5., 5., 5., 4., 4., 4., 1., 4., 4., 5.,\n",
       "         5., 5., 4., 4., 3., 3., 5., 5., 4., 5., 4., 5., 5., 5., 2., 3.,\n",
       "         4., 4., 4., 4., 4., 4., 5., 4., 4., 4., 3., 4., 5., 2., 5., 4.,\n",
       "         4., 5., 4., 4., 5., 5., 4., 3., 4., 4., 5., 5., 4., 4., 1., 4.,\n",
       "         3., 4., 3., 2., 3., 3., 4., 3., 5., 5., 2., 1., 4., 1., 2., 4.,\n",
       "         4., 3., 5., 4., 2., 4., 5., 2., 5., 5., 2., 4., 5., 4., 5., 4.,\n",
       "         4., 5., 5., 5., 5., 3., 4., 4., 4., 4., 5., 4., 5., 4., 5., 3.,\n",
       "         5., 1., 5., 3., 1., 4., 4., 4., 2., 3., 4., 2., 4., 5., 1., 3.,\n",
       "         5., 5., 5., 5., 5., 5., 4., 1., 3., 5., 5., 5., 4., 2., 1., 4.,\n",
       "         3., 1., 5., 5., 5., 5., 4., 5., 5., 4., 4., 5., 4., 5., 1., 3.,\n",
       "         4., 5., 5., 4., 3., 4., 4., 3., 2., 4., 3., 3., 4., 4., 4., 5.,\n",
       "         5., 3., 5., 5., 4., 3., 5., 1., 5., 2., 5., 4., 5., 4., 5., 4.,\n",
       "         2., 4., 1., 1., 4., 5., 5., 5., 1., 4., 4., 4., 5., 1., 1., 1.,\n",
       "         1., 5., 4., 1., 5., 4., 5., 5., 5., 5., 4., 5., 5., 5., 4., 1.,\n",
       "         3., 5., 5., 1., 5., 4., 5., 5., 1., 5., 3., 5., 4., 5., 1., 5.,\n",
       "         5., 1., 5., 1., 5., 5., 1., 4., 4., 4., 5., 1., 5., 5., 4., 5.,\n",
       "         4., 5., 1., 1., 3., 5., 1., 5., 5., 3., 5., 1., 3., 1., 5., 5.,\n",
       "         3., 5., 5., 5., 4., 5., 5., 5., 5., 5., 4., 4., 5., 4., 5., 5.,\n",
       "         3., 5., 5., 1., 4., 4., 1., 1., 5., 5., 1., 3., 5., 5., 1., 4.,\n",
       "         5., 5., 4., 2., 5., 5., 5., 5., 5., 1., 5., 5., 1., 1., 2., 2.,\n",
       "         2., 5., 4., 4., 1., 4., 5., 4., 5., 4., 4., 4., 4., 4., 5., 4.,\n",
       "         3., 2., 4., 5., 5., 2., 4., 1., 1., 5., 2., 3., 5., 5., 1., 2.,\n",
       "         3., 1., 5., 5., 1., 5., 4., 4., 3., 1., 2., 4., 2., 5., 4., 5.,\n",
       "         1., 5., 5., 2., 4., 5., 4., 5., 1., 5., 1., 5., 3., 3., 3., 3.,\n",
       "         5., 1., 4., 4., 1.]])"
      ]
     },
     "execution_count": 460,
     "metadata": {},
     "output_type": "execute_result"
    }
   ],
   "source": [
    "P_new_old[sample]"
   ]
  },
  {
   "cell_type": "code",
   "execution_count": 486,
   "metadata": {},
   "outputs": [
    {
     "data": {
      "text/plain": [
       "1.9862700228832952"
      ]
     },
     "execution_count": 486,
     "metadata": {},
     "output_type": "execute_result"
    }
   ],
   "source": [
    "sl = np.array(P_new_old[sample]).squeeze()\n",
    "sl2 = np.array(np.round(Z[sample])).squeeze()\n",
    "indexes = sl==5\n",
    "np.sum(abs(sl[indexes]-sl2[indexes]))/len(indexes)"
   ]
  },
  {
   "cell_type": "code",
   "execution_count": 488,
   "metadata": {},
   "outputs": [
    {
     "name": "stdout",
     "output_type": "stream",
     "text": [
      "MAE of 1:- 0.12128146453089245\n",
      "MAE of 2:- 0.11670480549199085\n",
      "MAE of 3:- 0.32265446224256294\n",
      "MAE of 4:- 1.139588100686499\n",
      "MAE of 5:- 1.9862700228832952\n"
     ]
    }
   ],
   "source": [
    "err1 = []\n",
    "err2 = []\n",
    "err3 = []\n",
    "err4 = []\n",
    "err5 = []\n",
    "\n",
    "for i in [1,2,3,4,5]:\n",
    "    sl = np.array(P_new_old[sample]).squeeze()\n",
    "    sl2 = np.array(np.round(Z[sample])).squeeze()\n",
    "    indexes = sl==i\n",
    "    print(f'MAE of {i}:-', np.sum(abs(sl[indexes]-sl2[indexes]))/len(indexes))"
   ]
  },
  {
   "cell_type": "code",
   "execution_count": null,
   "metadata": {},
   "outputs": [],
   "source": []
  },
  {
   "cell_type": "code",
   "execution_count": 490,
   "metadata": {},
   "outputs": [
    {
     "data": {
      "text/plain": [
       "82.18880702382776"
      ]
     },
     "execution_count": 490,
     "metadata": {},
     "output_type": "execute_result"
    }
   ],
   "source": [
    "np.linalg.norm(np.round(Z[sample])-P_new_old[sample])"
   ]
  },
  {
   "cell_type": "code",
   "execution_count": 489,
   "metadata": {},
   "outputs": [
    {
     "data": {
      "text/plain": [
       "1611.0"
      ]
     },
     "execution_count": 489,
     "metadata": {},
     "output_type": "execute_result"
    }
   ],
   "source": [
    "np.sum(abs(np.round(Z[sample])-P_new_old[sample]))/len(Z[sample])"
   ]
  },
  {
   "cell_type": "code",
   "execution_count": 463,
   "metadata": {},
   "outputs": [
    {
     "data": {
      "text/plain": [
       "matrix([[0., 0., 0., ..., 0., 0., 0.],\n",
       "        [0., 0., 0., ..., 0., 0., 0.],\n",
       "        [0., 0., 0., ..., 0., 0., 0.],\n",
       "        ...,\n",
       "        [0., 0., 0., ..., 0., 0., 0.],\n",
       "        [0., 0., 0., ..., 0., 0., 0.],\n",
       "        [1., 0., 0., ..., 0., 0., 0.]])"
      ]
     },
     "execution_count": 463,
     "metadata": {},
     "output_type": "execute_result"
    }
   ],
   "source": [
    "new_preds =  np.round(Z) - P_new\n",
    "new_preds"
   ]
  },
  {
   "cell_type": "code",
   "execution_count": 464,
   "metadata": {},
   "outputs": [
    {
     "data": {
      "text/plain": [
       "(500, 5391)"
      ]
     },
     "execution_count": 464,
     "metadata": {},
     "output_type": "execute_result"
    }
   ],
   "source": [
    "new_preds.shape"
   ]
  },
  {
   "cell_type": "code",
   "execution_count": 465,
   "metadata": {},
   "outputs": [],
   "source": [
    "d = {}\n",
    "for i, u in enumerate(users):\n",
    "    rid = np.array(np.argsort(-new_preds[i])).squeeze()[0]\n",
    "    d[id2u[u]] = (id2r[rid],new_preds[i,rid])"
   ]
  },
  {
   "cell_type": "code",
   "execution_count": 466,
   "metadata": {},
   "outputs": [
    {
     "data": {
      "text/plain": [
       "{'5782695': (22993, 0.0),\n",
       " '22164229': (22993, 0.0),\n",
       " '3293044': (22993, 0.0),\n",
       " '345724': (22993, 0.0),\n",
       " '1188483': (22993, 0.0),\n",
       " '10988293': (22993, 0.0),\n",
       " '1762473': (22993, 0.0),\n",
       " '1081973': (22993, 0.0),\n",
       " '5296684': (22993, 0.0),\n",
       " '1314371': (8873, 2.0),\n",
       " '8677808': (16354, 2.0),\n",
       " '4793729': (11802, 2.0),\n",
       " '4198459': (8148, 3.0),\n",
       " '3751061': (25539, 2.0),\n",
       " '562102': (12140, 3.0),\n",
       " '5957561': (10664, 5.0),\n",
       " '8684701': (20900, 3.0),\n",
       " '919748': (20577, 3.0),\n",
       " '476497': (13072, 4.0),\n",
       " '1303408': (15887, 3.0),\n",
       " '3842889': (13113, 4.0),\n",
       " '5957371': (21181, 3.0),\n",
       " '590126': (25688, 2.0),\n",
       " '1237011': (13032, 4.0),\n",
       " '4903888': (8635, 3.0),\n",
       " '1162973': (13459, 3.0),\n",
       " '474061': (16868, 5.0),\n",
       " '2669755': (11025, 3.0),\n",
       " '22149346': (22993, 0.0),\n",
       " '1181663': (25688, 3.0),\n",
       " '878171': (14065, 3.0),\n",
       " '9042694': (9599, 4.0),\n",
       " '1162606': (16047, 3.0),\n",
       " '896435': (20792, 3.0),\n",
       " '21110759': (16428, 4.0),\n",
       " '1307336': (22993, 0.0),\n",
       " '6593715': (22993, 0.0),\n",
       " '1147883': (22993, 0.0),\n",
       " '1477756': (22993, 0.0),\n",
       " '2630431': (11281, 2.0),\n",
       " '7439229': (22993, 0.0),\n",
       " '4177814': (22993, 0.0),\n",
       " '6588783': (7509, 2.0),\n",
       " '67928': (24082, 3.0),\n",
       " '3778162': (9111, 3.0),\n",
       " '1312322': (19934, 3.0),\n",
       " '601774': (13606, 4.0),\n",
       " '219768': (21185, 5.0),\n",
       " '2244343': (23176, 1.0),\n",
       " '873351': (9599, 3.0),\n",
       " '82626': (20659, 3.0),\n",
       " '1130199': (21752, 2.0),\n",
       " '2563442': (13437, 3.0),\n",
       " '22180950': (8268, 1.0),\n",
       " '858605': (12830, 3.0),\n",
       " '5445713': (15994, 3.0),\n",
       " '1171191': (12942, 3.0),\n",
       " '2096380': (10916, 3.0),\n",
       " '235974': (12360, 1.0),\n",
       " '3502873': (23996, 2.0),\n",
       " '1279509': (10723, 3.0),\n",
       " '2370380': (11306, 3.0),\n",
       " '1155419': (9222, 2.0),\n",
       " '886179': (11937, 2.0),\n",
       " '3027018': (25688, 3.0),\n",
       " '2485610': (24538, 3.0),\n",
       " '2317889': (13681, 3.0),\n",
       " '467747': (9599, 5.0),\n",
       " '575740': (26692, 3.0),\n",
       " '1479206': (8690, 2.0),\n",
       " '395849': (25665, 3.0),\n",
       " '236710': (21181, 3.0),\n",
       " '835238': (12678, 5.0),\n",
       " '590890': (12398, 3.0),\n",
       " '1515944': (9481, 4.0),\n",
       " '597494': (16678, 2.0),\n",
       " '3051289': (14184, 2.0),\n",
       " '21278320': (16049, 2.0),\n",
       " '115553': (18906, 3.0),\n",
       " '836972': (18830, 2.0),\n",
       " '3363194': (13995, 4.0),\n",
       " '3540575': (9777, 3.0),\n",
       " '34427': (16905, 3.0),\n",
       " '743968': (14021, 2.0),\n",
       " '672381': (10449, 2.0),\n",
       " '2099334': (8281, 4.0),\n",
       " '827351': (25688, 3.0),\n",
       " '876402': (7415, 3.0),\n",
       " '2525039': (22970, 2.0),\n",
       " '881900': (27188, 3.0),\n",
       " '6623373': (10723, 3.0),\n",
       " '117127': (8853, 3.0),\n",
       " '5558693': (22993, 0.0),\n",
       " '11703370': (10949, 1.0),\n",
       " '901135': (8975, 1.0),\n",
       " '9010895': (22993, 0.0),\n",
       " '22404307': (7492, 1.0),\n",
       " '2240422': (20163, 3.0),\n",
       " '22392886': (22993, 0.0),\n",
       " '2240390': (22993, 0.0),\n",
       " '3450692': (24094, 1.0),\n",
       " '5554480': (13482, 1.0),\n",
       " '9011417': (8404, 3.0),\n",
       " '1170285': (20066, 1.0),\n",
       " '11701716': (22993, 0.0),\n",
       " '5553598': (9191, 1.0),\n",
       " '481872': (8090, 2.0),\n",
       " '2240677': (8888, 2.0),\n",
       " '5553803': (24082, 4.0),\n",
       " '1170390': (24132, 5.0),\n",
       " '11699090': (19766, 1.0),\n",
       " '5553422': (23245, 1.0),\n",
       " '22400456': (24704, 1.0),\n",
       " '2552499': (20669, 1.0),\n",
       " '11699632': (22993, 0.0),\n",
       " '2240882': (13883, 1.0),\n",
       " '900917': (18352, 1.0),\n",
       " '22400457': (22993, 0.0),\n",
       " '11706027': (24370, 1.0),\n",
       " '5553053': (22993, 0.0),\n",
       " '3452233': (18391, 1.0),\n",
       " '2239533': (9083, 1.0),\n",
       " '5557982': (20942, 3.0),\n",
       " '4818646': (16098, 3.0),\n",
       " '1169844': (20140, 3.0),\n",
       " '481863': (20859, 2.0),\n",
       " '2239429': (22993, 0.0),\n",
       " '1171235': (24705, 4.0),\n",
       " '5552807': (8549, 1.0),\n",
       " '2240462': (24575, 1.0),\n",
       " '1171239': (24643, 3.0),\n",
       " '2240910': (20669, 2.0),\n",
       " '5373450': (10996, 1.0),\n",
       " '555466': (9615, 2.0),\n",
       " '11716063': (8417, 1.0),\n",
       " '5561254': (25642, 1.0),\n",
       " '4817756': (23177, 1.0),\n",
       " '9004624': (15985, 2.0),\n",
       " '4817701': (22993, 0.0),\n",
       " '900456': (15994, 3.0),\n",
       " '22386888': (22993, 0.0),\n",
       " '481755': (8853, 1.0),\n",
       " '11716155': (24082, 1.0),\n",
       " '1172651': (9962, 1.0),\n",
       " '900041': (22993, 0.0),\n",
       " '1172763': (22993, 0.0),\n",
       " '4816169': (22993, 0.0),\n",
       " '22367524': (22993, 0.0),\n",
       " '11717728': (16130, 2.0),\n",
       " '5562991': (22993, 0.0),\n",
       " '3826299': (8940, 3.0),\n",
       " '5559573': (13218, 1.0),\n",
       " '3449152': (14021, 3.0),\n",
       " '1172446': (22553, 1.0),\n",
       " '4816942': (12135, 2.0),\n",
       " '223763': (22993, 0.0),\n",
       " '5560510': (22993, 0.0),\n",
       " '3827184': (24773, 1.0),\n",
       " '3450473': (22993, 0.0),\n",
       " '2554037': (14373, 1.0),\n",
       " '2237947': (21176, 3.0),\n",
       " '2238103': (11853, 2.0),\n",
       " '22381843': (25871, 1.0),\n",
       " '3450095': (11802, 4.0),\n",
       " '5560102': (22768, 2.0),\n",
       " '3826271': (24094, 4.0),\n",
       " '1172143': (22993, 0.0),\n",
       " '22403101': (22694, 1.0),\n",
       " '1173088': (23852, 2.0),\n",
       " '5562819': (18411, 1.0),\n",
       " '3827494': (19016, 3.0),\n",
       " '22371493': (22993, 0.0),\n",
       " '8999651': (22993, 0.0),\n",
       " '255463': (14415, 1.0),\n",
       " '899938': (25490, 4.0),\n",
       " '1173039': (18411, 1.0),\n",
       " '223689': (8559, 3.0),\n",
       " '2237004': (24530, 3.0),\n",
       " '5552697': (25150, 1.0),\n",
       " '5559295': (22993, 0.0),\n",
       " '900522': (12284, 3.0),\n",
       " '11705583': (22993, 0.0),\n",
       " '2240268': (8887, 1.0),\n",
       " '22402681': (22993, 0.0),\n",
       " '22371574': (22993, 0.0),\n",
       " '22366507': (9401, 1.0),\n",
       " '556192': (22993, 0.0),\n",
       " '22372266': (12089, 1.0),\n",
       " '4816044': (22993, 0.0),\n",
       " '11731945': (20792, 1.0),\n",
       " '2236529': (22993, 0.0),\n",
       " '481595': (22993, 0.0),\n",
       " '899724': (9870, 2.0),\n",
       " '223652': (22993, 0.0),\n",
       " '3448824': (14132, 1.0),\n",
       " '1173304': (16066, 3.0),\n",
       " '5559518': (24720, 1.0),\n",
       " '8998979': (25498, 1.0),\n",
       " '2554697': (20724, 1.0),\n",
       " '11727655': (22993, 0.0),\n",
       " '11727849': (19017, 4.0),\n",
       " '5561662': (22993, 0.0),\n",
       " '899805': (12733, 1.0),\n",
       " '1171388': (22484, 1.0),\n",
       " '2216091': (15840, 4.0),\n",
       " '5557546': (23600, 3.0),\n",
       " '1189065': (24132, 4.0),\n",
       " '3842002': (20593, 1.0),\n",
       " '5613953': (12643, 3.0),\n",
       " '3841198': (22993, 0.0),\n",
       " '11884466': (9117, 1.0),\n",
       " '8919872': (22993, 0.0),\n",
       " '8919837': (14307, 1.0),\n",
       " '1188549': (16333, 1.0),\n",
       " '11896789': (16035, 1.0),\n",
       " '56129': (8519, 5.0),\n",
       " '22197005': (22993, 0.0),\n",
       " '1188572': (23056, 3.0),\n",
       " '11886704': (13488, 1.0),\n",
       " '3428957': (22993, 0.0),\n",
       " '11887471': (20163, 1.0),\n",
       " '1189167': (21185, 4.0),\n",
       " '3428916': (22993, 0.0),\n",
       " '22193008': (22993, 0.0),\n",
       " '22192565': (22993, 0.0),\n",
       " '8899253': (22993, 0.0),\n",
       " '3424045': (22993, 0.0),\n",
       " '8906601': (8230, 3.0),\n",
       " '479278': (16049, 3.0),\n",
       " '22177655': (22993, 0.0),\n",
       " '2218851': (20446, 4.0),\n",
       " '5615757': (22993, 1.0),\n",
       " '89137': (22993, 0.0),\n",
       " '2567258': (22993, 0.0),\n",
       " '2218984': (26632, 3.0),\n",
       " '3427961': (16130, 3.0),\n",
       " '4794454': (14349, 1.0),\n",
       " '2219170': (22993, 0.0),\n",
       " '1189339': (8758, 1.0),\n",
       " '5614756': (13684, 1.0),\n",
       " '2219276': (22993, 0.0),\n",
       " '3844753': (25490, 3.0),\n",
       " '1188553': (26208, 4.0),\n",
       " '1189682': (26085, 3.0),\n",
       " '5616750': (12481, 1.0),\n",
       " '2218506': (22993, 0.0),\n",
       " '11902354': (11303, 1.0),\n",
       " '5617151': (22993, 0.0),\n",
       " '119007': (22993, 0.0),\n",
       " '5617349': (10842, 1.0),\n",
       " '1190110': (13941, 1.0),\n",
       " '3427188': (13714, 2.0),\n",
       " '8911643': (22993, 0.0),\n",
       " '2218357': (19016, 4.0),\n",
       " '2215276': (20232, 3.0),\n",
       " '22113006': (22993, 0.0),\n",
       " '1196167': (25925, 2.0),\n",
       " '257303': (12678, 3.0),\n",
       " '1196123': (22993, 0.0),\n",
       " '11898852': (19484, 1.0),\n",
       " '479406': (9219, 3.0),\n",
       " '3843129': (12984, 1.0),\n",
       " '2568008': (22993, 0.0),\n",
       " '22181595': (22993, 0.0),\n",
       " '8910198': (22993, 0.0),\n",
       " '5618563': (22993, 1.0),\n",
       " '5618791': (22993, 1.0),\n",
       " '4792923': (22993, 0.0),\n",
       " '22181635': (22993, 0.0),\n",
       " '2568210': (14057, 4.0),\n",
       " '561925': (13681, 4.0),\n",
       " '3843560': (19459, 3.0),\n",
       " '3426422': (16451, 2.0),\n",
       " '22179106': (7475, 1.0),\n",
       " '11908012': (9777, 3.0),\n",
       " '1190680': (22993, 0.0),\n",
       " '3845094': (25171, 2.0),\n",
       " '11903209': (22993, 0.0),\n",
       " '8912146': (22993, 0.0),\n",
       " '22159893': (22993, 0.0),\n",
       " '3844736': (22931, 5.0),\n",
       " '1192461': (22993, 0.0),\n",
       " '3424794': (16352, 1.0),\n",
       " '2569554': (13684, 1.0),\n",
       " '5623095': (22993, 0.0),\n",
       " '22164000': (22993, 0.0),\n",
       " '342508': (19269, 3.0),\n",
       " '562236': (13555, 1.0),\n",
       " '2216568': (20724, 2.0),\n",
       " '562196': (23192, 3.0),\n",
       " '22166701': (16035, 1.0),\n",
       " '5621922': (22993, 0.0),\n",
       " '3425441': (7845, 2.0),\n",
       " '1191409': (10617, 3.0),\n",
       " '22168130': (16035, 1.0),\n",
       " '3425590': (14445, 4.0),\n",
       " '3426307': (14158, 2.0),\n",
       " '11919724': (11793, 1.0),\n",
       " '890598': (26490, 2.0),\n",
       " '3449144': (13681, 4.0),\n",
       " '11819373': (24835, 2.0),\n",
       " '4818928': (22993, 0.0),\n",
       " '22399325': (22993, 0.0),\n",
       " '22399234': (22993, 0.0),\n",
       " '3451642': (22694, 1.0),\n",
       " '2552755': (16373, 3.0),\n",
       " '2552784': (19129, 3.0),\n",
       " '2239830': (13009, 2.0),\n",
       " '2553108': (13307, 1.0),\n",
       " '11710096': (22993, 0.0),\n",
       " '2239729': (16212, 1.0),\n",
       " '3451150': (8343, 1.0),\n",
       " '11711873': (11306, 1.0),\n",
       " '9007809': (22993, 0.0),\n",
       " '11709692': (13023, 1.0),\n",
       " '254863': (22993, 0.0),\n",
       " '480304': (22993, 0.0),\n",
       " '2217562': (16295, 1.0),\n",
       " '2217503': (22993, 0.0),\n",
       " '4792543': (24034, 1.0),\n",
       " '1192904': (22612, 2.0),\n",
       " '1192898': (22993, 0.0),\n",
       " '5627768': (22993, 0.0),\n",
       " '5627656': (22993, 1.0),\n",
       " '889847': (7409, 2.0),\n",
       " '3844800': (22993, 0.0),\n",
       " '2570166': (16066, 4.0),\n",
       " '11926621': (16868, 1.0),\n",
       " '2215991': (19010, 3.0),\n",
       " '11921806': (16098, 1.0),\n",
       " '8902510': (12140, 2.0),\n",
       " '1192391': (11587, 3.0),\n",
       " '8901365': (14349, 1.0),\n",
       " '257010': (11937, 3.0),\n",
       " '5624176': (14278, 4.0),\n",
       " '11929061': (25498, 1.0),\n",
       " '8898250': (26019, 1.0),\n",
       " '562810': (22993, 0.0),\n",
       " '1193018': (22993, 0.0),\n",
       " '11910092': (20876, 1.0),\n",
       " '1192045': (14132, 1.0),\n",
       " '11910311': (20524, 1.0),\n",
       " '2217301': (22993, 0.0),\n",
       " '2217210': (9510, 1.0),\n",
       " '1191267': (27188, 1.0),\n",
       " '1191321': (22993, 0.0),\n",
       " '5558357': (25418, 2.0),\n",
       " '2568823': (11805, 1.0),\n",
       " '1190914': (22993, 0.0),\n",
       " '119206': (10996, 4.0),\n",
       " '3424534': (11853, 3.0),\n",
       " '34237': (9599, 3.0),\n",
       " '5628375': (26434, 2.0),\n",
       " '11930437': (9703, 1.0),\n",
       " '11930400': (24575, 2.0),\n",
       " '1191055': (22137, 1.0),\n",
       " '11725763': (7565, 1.0),\n",
       " '1167015': (20808, 1.0),\n",
       " '9012501': (22993, 0.0),\n",
       " '2561783': (10462, 3.0),\n",
       " '11814332': (8358, 1.0),\n",
       " '4804838': (22993, 0.0),\n",
       " '2228037': (9300, 1.0),\n",
       " '1181093': (25644, 3.0),\n",
       " '22278377': (22993, 0.0),\n",
       " '2227774': (8614, 1.0),\n",
       " '22276350': (13377, 1.0),\n",
       " '11813780': (25202, 1.0),\n",
       " '4804723': (22993, 0.0),\n",
       " '2236229': (25887, 1.0),\n",
       " '896287': (16742, 3.0),\n",
       " '3833778': (18352, 1.0),\n",
       " '3441278': (22993, 0.0),\n",
       " '3833254': (22993, 0.0),\n",
       " '2228142': (22993, 0.0),\n",
       " '3833231': (14297, 2.0),\n",
       " '558797': (7425, 3.0),\n",
       " '4803777': (11839, 1.0),\n",
       " '3438487': (22993, 0.0),\n",
       " '4803513': (24945, 1.0),\n",
       " '2227280': (24316, 1.0),\n",
       " '3835506': (8127, 1.0),\n",
       " '5589404': (8669, 4.0),\n",
       " '480355': (22993, 0.0),\n",
       " '558941': (24945, 1.0),\n",
       " '895467': (22993, 0.0),\n",
       " '4803262': (12984, 1.0),\n",
       " '558958': (13464, 3.0),\n",
       " '895366': (8701, 1.0),\n",
       " '8953568': (22993, 0.0),\n",
       " '895480': (22993, 0.0),\n",
       " '2229415': (11937, 4.0),\n",
       " '3437864': (8694, 1.0),\n",
       " '1180928': (7686, 1.0),\n",
       " '3441458': (22993, 0.0),\n",
       " '11788032': (22993, 0.0),\n",
       " '1178784': (22993, 0.0),\n",
       " '2231060': (8221, 2.0),\n",
       " '897137': (12558, 1.0),\n",
       " '557980': (15985, 3.0),\n",
       " '22303182': (14307, 1.0),\n",
       " '4807433': (7307, 2.0),\n",
       " '3440500': (20900, 3.0),\n",
       " '1179471': (24705, 4.0),\n",
       " '896471': (14132, 1.0),\n",
       " '11794787': (16080, 2.0),\n",
       " '5582818': (22993, 0.0),\n",
       " '5582909': (22993, 0.0),\n",
       " '2560465': (14065, 3.0),\n",
       " '222959': (12942, 3.0),\n",
       " '2229584': (22993, 0.0),\n",
       " '2229521': (22993, 0.0),\n",
       " '2231138': (23814, 1.0),\n",
       " '2559662': (9832, 3.0),\n",
       " '3832386': (13113, 4.0),\n",
       " '11789': (22993, 0.0),\n",
       " '4807747': (8701, 1.0),\n",
       " '22306337': (22993, 0.0),\n",
       " '896977': (16778, 1.0),\n",
       " '558112': (8493, 3.0),\n",
       " '22306997': (22993, 0.0),\n",
       " '4807847': (20147, 3.0),\n",
       " '3832984': (22993, 0.0),\n",
       " '895614': (20446, 3.0),\n",
       " '2559913': (22993, 0.0),\n",
       " '223087': (13755, 2.0),\n",
       " '22308986': (24575, 1.0),\n",
       " '5579022': (22993, 0.0),\n",
       " '3832064': (22993, 0.0),\n",
       " '897312': (22993, 0.0),\n",
       " '1178191': (26632, 3.0),\n",
       " '2231306': (18871, 1.0),\n",
       " '1178627': (22993, 2.0),\n",
       " '11797001': (22993, 0.0),\n",
       " '1180013': (22993, 0.0),\n",
       " '896033': (16427, 4.0),\n",
       " '2556610': (13615, 2.0),\n",
       " '556987': (26208, 4.0),\n",
       " '8987024': (22993, 0.0),\n",
       " '898674': (24822, 2.0),\n",
       " '2233806': (11063, 1.0),\n",
       " '3446368': (11306, 1.0),\n",
       " '1175243': (24558, 3.0),\n",
       " '4808928': (20724, 1.0),\n",
       " '3829940': (12824, 2.0),\n",
       " '4813201': (23134, 2.0),\n",
       " '22348620': (22993, 0.0),\n",
       " '899090': (12720, 3.0),\n",
       " '11745744': (8230, 2.0),\n",
       " '899085': (7261, 1.0),\n",
       " '11746942': (22612, 1.0),\n",
       " '11751739': (9840, 1.0),\n",
       " '899063': (8281, 2.0),\n",
       " '5568704': (13113, 1.0),\n",
       " '3446883': (13032, 3.0),\n",
       " '11743039': (8873, 4.0),\n",
       " '4815513': (20900, 3.0),\n",
       " '3447993': (22993, 0.0),\n",
       " '1173715': (13961, 3.0),\n",
       " '22359414': (22993, 0.0),\n",
       " '2555336': (22993, 0.0),\n",
       " '223575': (10115, 2.0),\n",
       " '8995349': (12468, 1.0),\n",
       " '556677': (20586, 3.0),\n",
       " '5566955': (18352, 1.0),\n",
       " '5566971': (22993, 0.0),\n",
       " '1175107': (14190, 3.0),\n",
       " '2234101': (25531, 4.0),\n",
       " '5569104': (11937, 5.0),\n",
       " '3830026': (13206, 1.0),\n",
       " '1175130': (22993, 0.0),\n",
       " '898902': (16305, 1.0),\n",
       " '344723': (16448, 2.0),\n",
       " '2555903': (20586, 1.0),\n",
       " '2228821': (22931, 3.0),\n",
       " '4805589': (25150, 1.0),\n",
       " '1180313': (22993, 0.0),\n",
       " '895984': (24945, 1.0),\n",
       " '8962611': (13218, 2.0),\n",
       " '11799729': (22993, 0.0),\n",
       " '4806376': (18352, 1.0),\n",
       " '3439789': (19459, 5.0),\n",
       " '8961638': (13218, 3.0),\n",
       " '2229157': (8701, 3.0),\n",
       " '4804886': (12777, 3.0),\n",
       " '896145': (26897, 1.0),\n",
       " '2560850': (13309, 2.0),\n",
       " '5584728': (7425, 3.0),\n",
       " '896044': (12997, 1.0),\n",
       " '22288142': (22993, 0.0),\n",
       " '1180424': (25294, 1.0),\n",
       " '2561277': (24945, 1.0),\n",
       " '5585910': (26597, 2.0),\n",
       " '117493': (26208, 4.0),\n",
       " '898963': (8358, 3.0),\n",
       " '1174970': (22993, 0.0),\n",
       " '899005': (12287, 3.0),\n",
       " '11781327': (8016, 1.0),\n",
       " '5578926': (22993, 0.0),\n",
       " '3442717': (16860, 3.0)}"
      ]
     },
     "execution_count": 466,
     "metadata": {},
     "output_type": "execute_result"
    }
   ],
   "source": [
    "d"
   ]
  },
  {
   "cell_type": "code",
   "execution_count": 216,
   "metadata": {},
   "outputs": [],
   "source": [
    "df_rec= pd.read_csv(rec_filepath, sep=',', error_bad_lines=False, warn_bad_lines=False, encoding= 'unicode_escape')"
   ]
  },
  {
   "cell_type": "code",
   "execution_count": 467,
   "metadata": {},
   "outputs": [
    {
     "data": {
      "text/html": [
       "<div>\n",
       "<style scoped>\n",
       "    .dataframe tbody tr th:only-of-type {\n",
       "        vertical-align: middle;\n",
       "    }\n",
       "\n",
       "    .dataframe tbody tr th {\n",
       "        vertical-align: top;\n",
       "    }\n",
       "\n",
       "    .dataframe thead th {\n",
       "        text-align: right;\n",
       "    }\n",
       "</style>\n",
       "<table border=\"1\" class=\"dataframe\">\n",
       "  <thead>\n",
       "    <tr style=\"text-align: right;\">\n",
       "      <th></th>\n",
       "      <th>profileID</th>\n",
       "      <th>RecipeID</th>\n",
       "      <th>Rate</th>\n",
       "      <th>rid</th>\n",
       "      <th>uid</th>\n",
       "    </tr>\n",
       "  </thead>\n",
       "  <tbody>\n",
       "    <tr>\n",
       "      <th>3672</th>\n",
       "      <td>467747</td>\n",
       "      <td>7547</td>\n",
       "      <td>1</td>\n",
       "      <td>1842</td>\n",
       "      <td>3361</td>\n",
       "    </tr>\n",
       "    <tr>\n",
       "      <th>151894</th>\n",
       "      <td>467747</td>\n",
       "      <td>22310</td>\n",
       "      <td>4</td>\n",
       "      <td>3414</td>\n",
       "      <td>3361</td>\n",
       "    </tr>\n",
       "    <tr>\n",
       "      <th>151895</th>\n",
       "      <td>467747</td>\n",
       "      <td>22993</td>\n",
       "      <td>4</td>\n",
       "      <td>0</td>\n",
       "      <td>3361</td>\n",
       "    </tr>\n",
       "    <tr>\n",
       "      <th>152110</th>\n",
       "      <td>467747</td>\n",
       "      <td>20675</td>\n",
       "      <td>4</td>\n",
       "      <td>400</td>\n",
       "      <td>3361</td>\n",
       "    </tr>\n",
       "    <tr>\n",
       "      <th>152425</th>\n",
       "      <td>467747</td>\n",
       "      <td>10462</td>\n",
       "      <td>4</td>\n",
       "      <td>1475</td>\n",
       "      <td>3361</td>\n",
       "    </tr>\n",
       "    <tr>\n",
       "      <th>358636</th>\n",
       "      <td>467747</td>\n",
       "      <td>16110</td>\n",
       "      <td>5</td>\n",
       "      <td>3274</td>\n",
       "      <td>3361</td>\n",
       "    </tr>\n",
       "    <tr>\n",
       "      <th>358637</th>\n",
       "      <td>467747</td>\n",
       "      <td>10996</td>\n",
       "      <td>5</td>\n",
       "      <td>3422</td>\n",
       "      <td>3361</td>\n",
       "    </tr>\n",
       "    <tr>\n",
       "      <th>358665</th>\n",
       "      <td>467747</td>\n",
       "      <td>8333</td>\n",
       "      <td>5</td>\n",
       "      <td>189</td>\n",
       "      <td>3361</td>\n",
       "    </tr>\n",
       "  </tbody>\n",
       "</table>\n",
       "</div>"
      ],
      "text/plain": [
       "       profileID  RecipeID  Rate   rid   uid\n",
       "3672      467747      7547     1  1842  3361\n",
       "151894    467747     22310     4  3414  3361\n",
       "151895    467747     22993     4     0  3361\n",
       "152110    467747     20675     4   400  3361\n",
       "152425    467747     10462     4  1475  3361\n",
       "358636    467747     16110     5  3274  3361\n",
       "358637    467747     10996     5  3422  3361\n",
       "358665    467747      8333     5   189  3361"
      ]
     },
     "execution_count": 467,
     "metadata": {},
     "output_type": "execute_result"
    }
   ],
   "source": [
    "df_m[df_m['profileID']=='467747']"
   ]
  },
  {
   "cell_type": "code",
   "execution_count": 468,
   "metadata": {},
   "outputs": [
    {
     "data": {
      "text/html": [
       "<div>\n",
       "<style scoped>\n",
       "    .dataframe tbody tr th:only-of-type {\n",
       "        vertical-align: middle;\n",
       "    }\n",
       "\n",
       "    .dataframe tbody tr th {\n",
       "        vertical-align: top;\n",
       "    }\n",
       "\n",
       "    .dataframe thead th {\n",
       "        text-align: right;\n",
       "    }\n",
       "</style>\n",
       "<table border=\"1\" class=\"dataframe\">\n",
       "  <thead>\n",
       "    <tr style=\"text-align: right;\">\n",
       "      <th></th>\n",
       "      <th>RecipeID</th>\n",
       "      <th>Ingredients</th>\n",
       "      <th>ReviewCount</th>\n",
       "      <th>CookTimeMin</th>\n",
       "      <th>PrepTimeMin</th>\n",
       "      <th>RecipeName</th>\n",
       "      <th>yeast</th>\n",
       "      <th>water</th>\n",
       "      <th>white sugar</th>\n",
       "      <th>salt</th>\n",
       "      <th>...</th>\n",
       "      <th>vanilla very fine</th>\n",
       "      <th>red bean paste</th>\n",
       "      <th>chocolatehazelnut spread</th>\n",
       "      <th>loaf italian</th>\n",
       "      <th>cedar plank</th>\n",
       "      <th>pizza crust bread shell</th>\n",
       "      <th>buitoni pesto basil</th>\n",
       "      <th>brown sugar replacement</th>\n",
       "      <th>splenda granular</th>\n",
       "      <th>treacle</th>\n",
       "    </tr>\n",
       "  </thead>\n",
       "  <tbody>\n",
       "    <tr>\n",
       "      <th>406</th>\n",
       "      <td>7547</td>\n",
       "      <td>1 package yellow cake mix. 3/4 cup vegetable o...</td>\n",
       "      <td>830</td>\n",
       "      <td>60</td>\n",
       "      <td>30</td>\n",
       "      <td>honey bun cake i recipe</td>\n",
       "      <td>NaN</td>\n",
       "      <td>NaN</td>\n",
       "      <td>NaN</td>\n",
       "      <td>NaN</td>\n",
       "      <td>...</td>\n",
       "      <td>NaN</td>\n",
       "      <td>NaN</td>\n",
       "      <td>NaN</td>\n",
       "      <td>NaN</td>\n",
       "      <td>NaN</td>\n",
       "      <td>NaN</td>\n",
       "      <td>NaN</td>\n",
       "      <td>NaN</td>\n",
       "      <td>NaN</td>\n",
       "      <td>NaN</td>\n",
       "    </tr>\n",
       "    <tr>\n",
       "      <th>972</th>\n",
       "      <td>8333</td>\n",
       "      <td>3/4 cup butter. 2 1/8 cups white sugar. 3 eggs...</td>\n",
       "      <td>2000</td>\n",
       "      <td>60</td>\n",
       "      <td>30</td>\n",
       "      <td>banana cake vi recipe</td>\n",
       "      <td>NaN</td>\n",
       "      <td>NaN</td>\n",
       "      <td>2.125</td>\n",
       "      <td>0.25</td>\n",
       "      <td>...</td>\n",
       "      <td>NaN</td>\n",
       "      <td>NaN</td>\n",
       "      <td>NaN</td>\n",
       "      <td>NaN</td>\n",
       "      <td>NaN</td>\n",
       "      <td>NaN</td>\n",
       "      <td>NaN</td>\n",
       "      <td>NaN</td>\n",
       "      <td>NaN</td>\n",
       "      <td>NaN</td>\n",
       "    </tr>\n",
       "    <tr>\n",
       "      <th>1926</th>\n",
       "      <td>9599</td>\n",
       "      <td>2 cups white sugar. 1 cup butter. 1/2 cup coco...</td>\n",
       "      <td>1000</td>\n",
       "      <td>30</td>\n",
       "      <td>15</td>\n",
       "      <td>quick and easy brownies recipe</td>\n",
       "      <td>NaN</td>\n",
       "      <td>NaN</td>\n",
       "      <td>2.000</td>\n",
       "      <td>0.50</td>\n",
       "      <td>...</td>\n",
       "      <td>NaN</td>\n",
       "      <td>NaN</td>\n",
       "      <td>NaN</td>\n",
       "      <td>NaN</td>\n",
       "      <td>NaN</td>\n",
       "      <td>NaN</td>\n",
       "      <td>NaN</td>\n",
       "      <td>NaN</td>\n",
       "      <td>NaN</td>\n",
       "      <td>NaN</td>\n",
       "    </tr>\n",
       "    <tr>\n",
       "      <th>2550</th>\n",
       "      <td>10462</td>\n",
       "      <td>1 cup white sugar. 1 teaspoon baking powder. 3...</td>\n",
       "      <td>648</td>\n",
       "      <td>45</td>\n",
       "      <td>15</td>\n",
       "      <td>blueberry crumb bars recipe</td>\n",
       "      <td>NaN</td>\n",
       "      <td>NaN</td>\n",
       "      <td>0.500</td>\n",
       "      <td>0.25</td>\n",
       "      <td>...</td>\n",
       "      <td>NaN</td>\n",
       "      <td>NaN</td>\n",
       "      <td>NaN</td>\n",
       "      <td>NaN</td>\n",
       "      <td>NaN</td>\n",
       "      <td>NaN</td>\n",
       "      <td>NaN</td>\n",
       "      <td>NaN</td>\n",
       "      <td>NaN</td>\n",
       "      <td>NaN</td>\n",
       "    </tr>\n",
       "    <tr>\n",
       "      <th>2971</th>\n",
       "      <td>10996</td>\n",
       "      <td>1/2 cup butter. 1/2 cup white sugar. 1/2 cup p...</td>\n",
       "      <td>96</td>\n",
       "      <td>28</td>\n",
       "      <td>15</td>\n",
       "      <td>monkey peanut butter bars recipe</td>\n",
       "      <td>NaN</td>\n",
       "      <td>NaN</td>\n",
       "      <td>0.500</td>\n",
       "      <td>NaN</td>\n",
       "      <td>...</td>\n",
       "      <td>NaN</td>\n",
       "      <td>NaN</td>\n",
       "      <td>NaN</td>\n",
       "      <td>NaN</td>\n",
       "      <td>NaN</td>\n",
       "      <td>NaN</td>\n",
       "      <td>NaN</td>\n",
       "      <td>NaN</td>\n",
       "      <td>NaN</td>\n",
       "      <td>NaN</td>\n",
       "    </tr>\n",
       "    <tr>\n",
       "      <th>6568</th>\n",
       "      <td>16110</td>\n",
       "      <td>2 cans garbanzo beans, drained. 2 cucumbers, h...</td>\n",
       "      <td>356</td>\n",
       "      <td>30</td>\n",
       "      <td>10</td>\n",
       "      <td>greek garbanzo bean salad recipe</td>\n",
       "      <td>NaN</td>\n",
       "      <td>NaN</td>\n",
       "      <td>NaN</td>\n",
       "      <td>NaN</td>\n",
       "      <td>...</td>\n",
       "      <td>NaN</td>\n",
       "      <td>NaN</td>\n",
       "      <td>NaN</td>\n",
       "      <td>NaN</td>\n",
       "      <td>NaN</td>\n",
       "      <td>NaN</td>\n",
       "      <td>NaN</td>\n",
       "      <td>NaN</td>\n",
       "      <td>NaN</td>\n",
       "      <td>NaN</td>\n",
       "    </tr>\n",
       "    <tr>\n",
       "      <th>9141</th>\n",
       "      <td>20675</td>\n",
       "      <td>1 1/2 pounds lean ground beef. 1/2 cup crushed...</td>\n",
       "      <td>2000</td>\n",
       "      <td>45</td>\n",
       "      <td>10</td>\n",
       "      <td>rempel family meatloaf recipe</td>\n",
       "      <td>NaN</td>\n",
       "      <td>NaN</td>\n",
       "      <td>NaN</td>\n",
       "      <td>NaN</td>\n",
       "      <td>...</td>\n",
       "      <td>NaN</td>\n",
       "      <td>NaN</td>\n",
       "      <td>NaN</td>\n",
       "      <td>NaN</td>\n",
       "      <td>NaN</td>\n",
       "      <td>NaN</td>\n",
       "      <td>NaN</td>\n",
       "      <td>NaN</td>\n",
       "      <td>NaN</td>\n",
       "      <td>NaN</td>\n",
       "    </tr>\n",
       "    <tr>\n",
       "      <th>9867</th>\n",
       "      <td>22310</td>\n",
       "      <td>1 package lemon cake mix. 1 package lemon flav...</td>\n",
       "      <td>134</td>\n",
       "      <td>35</td>\n",
       "      <td>15</td>\n",
       "      <td>creamy lemon cake recipe</td>\n",
       "      <td>NaN</td>\n",
       "      <td>1.0</td>\n",
       "      <td>NaN</td>\n",
       "      <td>NaN</td>\n",
       "      <td>...</td>\n",
       "      <td>NaN</td>\n",
       "      <td>NaN</td>\n",
       "      <td>NaN</td>\n",
       "      <td>NaN</td>\n",
       "      <td>NaN</td>\n",
       "      <td>NaN</td>\n",
       "      <td>NaN</td>\n",
       "      <td>NaN</td>\n",
       "      <td>NaN</td>\n",
       "      <td>NaN</td>\n",
       "    </tr>\n",
       "    <tr>\n",
       "      <th>10164</th>\n",
       "      <td>22993</td>\n",
       "      <td>3 fresh peaches - peeled, pitted, and sliced. ...</td>\n",
       "      <td>362</td>\n",
       "      <td>45</td>\n",
       "      <td>20</td>\n",
       "      <td>peach cobbler ii recipe</td>\n",
       "      <td>NaN</td>\n",
       "      <td>2.0</td>\n",
       "      <td>1.000</td>\n",
       "      <td>0.50</td>\n",
       "      <td>...</td>\n",
       "      <td>NaN</td>\n",
       "      <td>NaN</td>\n",
       "      <td>NaN</td>\n",
       "      <td>NaN</td>\n",
       "      <td>NaN</td>\n",
       "      <td>NaN</td>\n",
       "      <td>NaN</td>\n",
       "      <td>NaN</td>\n",
       "      <td>NaN</td>\n",
       "      <td>NaN</td>\n",
       "    </tr>\n",
       "  </tbody>\n",
       "</table>\n",
       "<p>9 rows × 3760 columns</p>\n",
       "</div>"
      ],
      "text/plain": [
       "       RecipeID                                        Ingredients  \\\n",
       "406        7547  1 package yellow cake mix. 3/4 cup vegetable o...   \n",
       "972        8333  3/4 cup butter. 2 1/8 cups white sugar. 3 eggs...   \n",
       "1926       9599  2 cups white sugar. 1 cup butter. 1/2 cup coco...   \n",
       "2550      10462  1 cup white sugar. 1 teaspoon baking powder. 3...   \n",
       "2971      10996  1/2 cup butter. 1/2 cup white sugar. 1/2 cup p...   \n",
       "6568      16110  2 cans garbanzo beans, drained. 2 cucumbers, h...   \n",
       "9141      20675  1 1/2 pounds lean ground beef. 1/2 cup crushed...   \n",
       "9867      22310  1 package lemon cake mix. 1 package lemon flav...   \n",
       "10164     22993  3 fresh peaches - peeled, pitted, and sliced. ...   \n",
       "\n",
       "       ReviewCount  CookTimeMin  PrepTimeMin  \\\n",
       "406            830           60           30   \n",
       "972           2000           60           30   \n",
       "1926          1000           30           15   \n",
       "2550           648           45           15   \n",
       "2971            96           28           15   \n",
       "6568           356           30           10   \n",
       "9141          2000           45           10   \n",
       "9867           134           35           15   \n",
       "10164          362           45           20   \n",
       "\n",
       "                             RecipeName  yeast  water  white sugar  salt  ...  \\\n",
       "406             honey bun cake i recipe    NaN    NaN          NaN   NaN  ...   \n",
       "972               banana cake vi recipe    NaN    NaN        2.125  0.25  ...   \n",
       "1926     quick and easy brownies recipe    NaN    NaN        2.000  0.50  ...   \n",
       "2550        blueberry crumb bars recipe    NaN    NaN        0.500  0.25  ...   \n",
       "2971   monkey peanut butter bars recipe    NaN    NaN        0.500   NaN  ...   \n",
       "6568   greek garbanzo bean salad recipe    NaN    NaN          NaN   NaN  ...   \n",
       "9141      rempel family meatloaf recipe    NaN    NaN          NaN   NaN  ...   \n",
       "9867           creamy lemon cake recipe    NaN    1.0          NaN   NaN  ...   \n",
       "10164           peach cobbler ii recipe    NaN    2.0        1.000  0.50  ...   \n",
       "\n",
       "       vanilla very fine  red bean paste  chocolatehazelnut spread  \\\n",
       "406                  NaN             NaN                       NaN   \n",
       "972                  NaN             NaN                       NaN   \n",
       "1926                 NaN             NaN                       NaN   \n",
       "2550                 NaN             NaN                       NaN   \n",
       "2971                 NaN             NaN                       NaN   \n",
       "6568                 NaN             NaN                       NaN   \n",
       "9141                 NaN             NaN                       NaN   \n",
       "9867                 NaN             NaN                       NaN   \n",
       "10164                NaN             NaN                       NaN   \n",
       "\n",
       "       loaf italian  cedar plank  pizza crust bread shell  \\\n",
       "406             NaN          NaN                      NaN   \n",
       "972             NaN          NaN                      NaN   \n",
       "1926            NaN          NaN                      NaN   \n",
       "2550            NaN          NaN                      NaN   \n",
       "2971            NaN          NaN                      NaN   \n",
       "6568            NaN          NaN                      NaN   \n",
       "9141            NaN          NaN                      NaN   \n",
       "9867            NaN          NaN                      NaN   \n",
       "10164           NaN          NaN                      NaN   \n",
       "\n",
       "       buitoni pesto basil  brown sugar replacement  splenda granular  treacle  \n",
       "406                    NaN                      NaN               NaN      NaN  \n",
       "972                    NaN                      NaN               NaN      NaN  \n",
       "1926                   NaN                      NaN               NaN      NaN  \n",
       "2550                   NaN                      NaN               NaN      NaN  \n",
       "2971                   NaN                      NaN               NaN      NaN  \n",
       "6568                   NaN                      NaN               NaN      NaN  \n",
       "9141                   NaN                      NaN               NaN      NaN  \n",
       "9867                   NaN                      NaN               NaN      NaN  \n",
       "10164                  NaN                      NaN               NaN      NaN  \n",
       "\n",
       "[9 rows x 3760 columns]"
      ]
     },
     "execution_count": 468,
     "metadata": {},
     "output_type": "execute_result"
    }
   ],
   "source": [
    "df_rec[df_rec['RecipeID'].isin(df_m[df_m['profileID']=='467747']['RecipeID'].to_list()+[9599])]"
   ]
  },
  {
   "cell_type": "code",
   "execution_count": null,
   "metadata": {},
   "outputs": [],
   "source": []
  }
 ],
 "metadata": {
  "kernelspec": {
   "display_name": "Python 3",
   "language": "python",
   "name": "python3"
  },
  "language_info": {
   "codemirror_mode": {
    "name": "ipython",
    "version": 3
   },
   "file_extension": ".py",
   "mimetype": "text/x-python",
   "name": "python",
   "nbconvert_exporter": "python",
   "pygments_lexer": "ipython3",
   "version": "3.7.3"
  }
 },
 "nbformat": 4,
 "nbformat_minor": 2
}
