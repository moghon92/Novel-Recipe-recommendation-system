{
 "cells": [
  {
   "cell_type": "code",
   "execution_count": 44,
   "metadata": {},
   "outputs": [],
   "source": [
    "import os\n",
    "import regex as re\n",
    "import pandas as pd\n",
    "import numpy as np\n",
    "import matplotlib.pyplot as plt\n",
    "\n",
    "import warnings\n",
    "warnings.filterwarnings('ignore')"
   ]
  },
  {
   "cell_type": "code",
   "execution_count": 45,
   "metadata": {},
   "outputs": [],
   "source": [
    "rec_filepath = os.getcwd() + '\\\\data\\\\recipes.csv'\n"
   ]
  },
  {
   "cell_type": "code",
   "execution_count": 46,
   "metadata": {},
   "outputs": [],
   "source": [
    "df_rec= pd.read_csv(rec_filepath, sep=';', error_bad_lines=False, warn_bad_lines=False, encoding= 'unicode_escape')\n"
   ]
  },
  {
   "cell_type": "code",
   "execution_count": 48,
   "metadata": {},
   "outputs": [],
   "source": [
    "#df_merge = df_rec.merge(df_rev,on='RecipeID')"
   ]
  },
  {
   "cell_type": "code",
   "execution_count": 49,
   "metadata": {},
   "outputs": [],
   "source": [
    "df_rec['flag_num'] = df_rec['RecipeID'].apply(lambda x: 1 if str(x).isnumeric() else 0)\n",
    "df_rec['Review Count'] = df_rec['Review Count'].apply(lambda x: str(x)[:-1]+'000' if str(x)[-1]=='k' else x)"
   ]
  },
  {
   "cell_type": "code",
   "execution_count": 50,
   "metadata": {},
   "outputs": [],
   "source": [
    "df_rec = df_rec[~df_rec['Ingredients'].isna()]\n",
    "df_rec = df_rec[df_rec['flag_num']==1]\n",
    "df_rec['RecipeID'] = df_rec['RecipeID'].astype(int)\n",
    "df_rec['ReviewCount'] = df_rec['Review Count'].astype(int)"
   ]
  },
  {
   "cell_type": "code",
   "execution_count": 51,
   "metadata": {},
   "outputs": [],
   "source": [
    "df_rec['Cook Time'] = df_rec['Cook Time'].apply(lambda x: np.NaN if str(x)=='X' else x)\n",
    "\n",
    "df_rec['Cook Time1'] = df_rec['Cook Time'].apply(lambda x: '0 d '+str(x) if ('m' in str(x) and 'h' in str(x) and 'd' not in str(x)) else \\\n",
    "                        '0 d 0 h '+str(x) if ('m' in str(x) and 'h' not in str(x) and 'd' not in str(x)) else \\\n",
    "                        '0 d '+str(x)+' 0 m' if ('m' not in str(x) and 'h' in str(x) and 'd' not in str(x)) else \\\n",
    "                        str(x)+' 0 h 0 m' if ('m' not in str(x) and 'h' not in str(x) and 'd' in str(x)) else \\\n",
    "                        str(x)+' 0 m' if ('m' not in str(x) and 'h' in str(x) and 'd' in str(x)) else x\n",
    "                         )\n",
    "\n",
    "df_rec['Cook Time2'] = df_rec['Cook Time1'].fillna('empty').apply(lambda x: re.findall('[0-9]+', str(x)) if x!='empty' else x)\n",
    "df_rec['CookTimeMin'] = df_rec['Cook Time2'].apply(lambda x: (int(x[0])*60*24) + (int(x[1])*60) + int(x[2]) if x!='empty' else np.NaN)"
   ]
  },
  {
   "cell_type": "code",
   "execution_count": 52,
   "metadata": {},
   "outputs": [],
   "source": [
    "df_rec['Prepare Time'] = df_rec['Prepare Time'].apply(lambda x: np.NaN if str(x)=='X' else x)\n",
    "\n",
    "df_rec['Prepare Time1'] = df_rec['Prepare Time'].apply(lambda x: '0 d '+str(x) if ('m' in str(x) and 'h' in str(x) and 'd' not in str(x)) else \\\n",
    "                        '0 d 0 h '+str(x) if ('m' in str(x) and 'h' not in str(x) and 'd' not in str(x)) else \\\n",
    "                        '0 d '+str(x)+' 0 m' if ('m' not in str(x) and 'h' in str(x) and 'd' not in str(x)) else \\\n",
    "                        str(x)+' 0 h 0 m' if ('m' not in str(x) and 'h' not in str(x) and 'd' in str(x)) else \\\n",
    "                        str(x)+' 0 m' if ('m' not in str(x) and 'h' in str(x) and 'd' in str(x)) else x\n",
    "                         )\n",
    "\n",
    "df_rec['Prepare Time2'] = df_rec['Prepare Time1'].fillna('empty').apply(lambda x: re.findall('[0-9]+', str(x)) if x!='empty' else x)\n",
    "df_rec['PrepTimeMin'] = df_rec['Prepare Time2'].apply(lambda x: (int(x[0])*60*24) + (int(x[1])*60) + int(x[2]) if x!='empty' else np.NaN)"
   ]
  },
  {
   "cell_type": "code",
   "execution_count": 53,
   "metadata": {},
   "outputs": [],
   "source": [
    "df_rec['CookTimeMin'].fillna(df_rec['CookTimeMin'].median(), inplace=True)   \n",
    "df_rec['PrepTimeMin'].fillna(df_rec['PrepTimeMin'].median(), inplace=True) \n",
    "\n",
    "df_rec['PrepTimeMin'] = df_rec['PrepTimeMin'].astype(int)\n",
    "df_rec['CookTimeMin'] = df_rec['CookTimeMin'].astype(int)"
   ]
  },
  {
   "cell_type": "code",
   "execution_count": 54,
   "metadata": {},
   "outputs": [],
   "source": [
    "df_rec['RecipeName'] = df_rec['Recipe Name'].apply(lambda x: re.sub('''[^aA-zZ0-9 ]''','',x).strip().lower())"
   ]
  },
  {
   "cell_type": "code",
   "execution_count": 55,
   "metadata": {},
   "outputs": [],
   "source": [
    "df_rec['Ingredients'] = df_rec['Ingredients'].apply(lambda x: re.sub('\\*\\*','. ',x).strip().lower())\n",
    "df_rec['Ingredients'] = df_rec['Ingredients'].apply(lambda x: re.sub('''\\s*\\([aA-zZ0-9\\. ]+\\)\\s*''',' ',x).strip())\n",
    "df_rec['Ingredients'] = df_rec['Ingredients'].apply(lambda x:  re.sub('''\\s*\\(.+\\)\\s*''',' ',x).strip())\n",
    "\n",
    "df_rec['Ingredients'] = df_rec['Ingredients'].apply(lambda x: re.sub('''[\\']''','',x).strip())"
   ]
  },
  {
   "cell_type": "code",
   "execution_count": 56,
   "metadata": {},
   "outputs": [],
   "source": [
    "from nltk.stem import WordNetLemmatizer\n",
    "lemmatizer = WordNetLemmatizer()\n",
    "\n",
    "df_rec['Ingredients'] = df_rec['Ingredients'].apply(lambda x: lemmatizer.lemmatize(x))"
   ]
  },
  {
   "cell_type": "code",
   "execution_count": 47,
   "metadata": {},
   "outputs": [],
   "source": [
    "x = df_rec.iloc[0,8]"
   ]
  },
  {
   "cell_type": "code",
   "execution_count": 27,
   "metadata": {},
   "outputs": [
    {
     "data": {
      "text/plain": [
       "'2 packages active dry yeast. 3/4 cup warm water . 1/2 cup white sugar. 1 teaspoon salt. 2 eggs. 1/2 cup butter, room temperature. 4 cups all-purpose flour. 1/4 cup butter, softened'"
      ]
     },
     "execution_count": 27,
     "metadata": {},
     "output_type": "execute_result"
    }
   ],
   "source": [
    "df_rec.iloc[0,8]"
   ]
  },
  {
   "cell_type": "code",
   "execution_count": 57,
   "metadata": {},
   "outputs": [
    {
     "name": "stdout",
     "output_type": "stream",
     "text": [
      "BEFORE:-\n",
      "2 (.25 ounce) packages active dry yeast**3/4 cup warm water (110 degrees F/45 degrees C)**1/2 cup white sugar**1 teaspoon salt**2 eggs**1/2 cup butter, room temperature**4 cups all-purpose flour**1/4 cup butter, softened\n",
      "\n",
      "After:-\n",
      "2 packages active dry yeast. 3/4 cup warm water . 1/2 cup white sugar. 1 teaspoon salt. 2 eggs. 1/2 cup butter, room temperature. 4 cups all-purpose flour. 1/4 cup butter, softened\n"
     ]
    }
   ],
   "source": [
    "print('BEFORE:-')\n",
    "print(x)\n",
    "print()\n",
    "print('After:-')\n",
    "print(df_rec.iloc[0,8])"
   ]
  },
  {
   "cell_type": "code",
   "execution_count": 117,
   "metadata": {},
   "outputs": [],
   "source": [
    "del df_rec['Recipe Photo']\n",
    "del df_rec['Author']\n",
    "del df_rec['Total Time']\n",
    "del df_rec['flag_num']\n",
    "del df_rec['Prepare Time']\n",
    "del df_rec['Prepare Time1']\n",
    "del df_rec['Prepare Time2']\n",
    "del df_rec['Cook Time']\n",
    "del df_rec['Cook Time1']\n",
    "del df_rec['Cook Time2']\n",
    "del df_rec['Directions']\n",
    "del df_rec['Recipe Name']\n",
    "del df_rec['Review Count']"
   ]
  },
  {
   "cell_type": "code",
   "execution_count": 155,
   "metadata": {
    "scrolled": true
   },
   "outputs": [
    {
     "data": {
      "text/html": [
       "<div>\n",
       "<style scoped>\n",
       "    .dataframe tbody tr th:only-of-type {\n",
       "        vertical-align: middle;\n",
       "    }\n",
       "\n",
       "    .dataframe tbody tr th {\n",
       "        vertical-align: top;\n",
       "    }\n",
       "\n",
       "    .dataframe thead th {\n",
       "        text-align: right;\n",
       "    }\n",
       "</style>\n",
       "<table border=\"1\" class=\"dataframe\">\n",
       "  <thead>\n",
       "    <tr style=\"text-align: right;\">\n",
       "      <th></th>\n",
       "      <th>RecipeID</th>\n",
       "      <th>Ingredients</th>\n",
       "      <th>ReviewCount</th>\n",
       "      <th>CookTimeMin</th>\n",
       "      <th>PrepTimeMin</th>\n",
       "      <th>RecipeName</th>\n",
       "    </tr>\n",
       "  </thead>\n",
       "  <tbody>\n",
       "    <tr>\n",
       "      <th>0</th>\n",
       "      <td>7000</td>\n",
       "      <td>2 packages active dry yeast. 3/4 cup warm wate...</td>\n",
       "      <td>304</td>\n",
       "      <td>15</td>\n",
       "      <td>25</td>\n",
       "      <td>golden crescent rolls recipe</td>\n",
       "    </tr>\n",
       "    <tr>\n",
       "      <th>1</th>\n",
       "      <td>7001</td>\n",
       "      <td>3 cups all-purpose flour. 1 1/2 teaspoons salt...</td>\n",
       "      <td>137</td>\n",
       "      <td>60</td>\n",
       "      <td>15</td>\n",
       "      <td>poppy seed bread with glaze recipe</td>\n",
       "    </tr>\n",
       "    <tr>\n",
       "      <th>2</th>\n",
       "      <td>7003</td>\n",
       "      <td>3 cups all-purpose flour. 3 eggs. 2 cups white...</td>\n",
       "      <td>124</td>\n",
       "      <td>80</td>\n",
       "      <td>10</td>\n",
       "      <td>applesauce bread i recipe</td>\n",
       "    </tr>\n",
       "    <tr>\n",
       "      <th>3</th>\n",
       "      <td>7006</td>\n",
       "      <td>1 1/2 cups all-purpose flour. 2 teaspoons baki...</td>\n",
       "      <td>39</td>\n",
       "      <td>60</td>\n",
       "      <td>15</td>\n",
       "      <td>apple raisin bread recipe</td>\n",
       "    </tr>\n",
       "    <tr>\n",
       "      <th>4</th>\n",
       "      <td>7007</td>\n",
       "      <td>1 cup rolled oats. 1 cup buttermilk. 1/2 cup v...</td>\n",
       "      <td>41</td>\n",
       "      <td>60</td>\n",
       "      <td>10</td>\n",
       "      <td>buttermilk oatmeal bread recipe</td>\n",
       "    </tr>\n",
       "    <tr>\n",
       "      <th>...</th>\n",
       "      <td>...</td>\n",
       "      <td>...</td>\n",
       "      <td>...</td>\n",
       "      <td>...</td>\n",
       "      <td>...</td>\n",
       "      <td>...</td>\n",
       "    </tr>\n",
       "    <tr>\n",
       "      <th>13401</th>\n",
       "      <td>27456</td>\n",
       "      <td>1 package confectioners sugar. 3 tablespoons b...</td>\n",
       "      <td>5</td>\n",
       "      <td>30</td>\n",
       "      <td>30</td>\n",
       "      <td>hot coffee frosting recipe</td>\n",
       "    </tr>\n",
       "    <tr>\n",
       "      <th>13402</th>\n",
       "      <td>27478</td>\n",
       "      <td>crust:. 2 cups crushed graham crackers. 1 cup ...</td>\n",
       "      <td>78</td>\n",
       "      <td>60</td>\n",
       "      <td>20</td>\n",
       "      <td>white chocolate blueberry cheesecake recipe</td>\n",
       "    </tr>\n",
       "    <tr>\n",
       "      <th>13403</th>\n",
       "      <td>27491</td>\n",
       "      <td>2 cups all-purpose flour. 3/4 cup white sugar....</td>\n",
       "      <td>704</td>\n",
       "      <td>25</td>\n",
       "      <td>20</td>\n",
       "      <td>aunt annes coffee cake recipe</td>\n",
       "    </tr>\n",
       "    <tr>\n",
       "      <th>13404</th>\n",
       "      <td>27511</td>\n",
       "      <td>1 package devils food cake mix. 1 package inst...</td>\n",
       "      <td>157</td>\n",
       "      <td>50</td>\n",
       "      <td>25</td>\n",
       "      <td>giant ding dong cake recipe</td>\n",
       "    </tr>\n",
       "    <tr>\n",
       "      <th>13405</th>\n",
       "      <td>27546</td>\n",
       "      <td>1 can sliced peaches, drained and chopped. 1/4...</td>\n",
       "      <td>10</td>\n",
       "      <td>50</td>\n",
       "      <td>15</td>\n",
       "      <td>peach coffee cake recipe</td>\n",
       "    </tr>\n",
       "  </tbody>\n",
       "</table>\n",
       "<p>12351 rows × 6 columns</p>\n",
       "</div>"
      ],
      "text/plain": [
       "       RecipeID                                        Ingredients  \\\n",
       "0          7000  2 packages active dry yeast. 3/4 cup warm wate...   \n",
       "1          7001  3 cups all-purpose flour. 1 1/2 teaspoons salt...   \n",
       "2          7003  3 cups all-purpose flour. 3 eggs. 2 cups white...   \n",
       "3          7006  1 1/2 cups all-purpose flour. 2 teaspoons baki...   \n",
       "4          7007  1 cup rolled oats. 1 cup buttermilk. 1/2 cup v...   \n",
       "...         ...                                                ...   \n",
       "13401     27456  1 package confectioners sugar. 3 tablespoons b...   \n",
       "13402     27478  crust:. 2 cups crushed graham crackers. 1 cup ...   \n",
       "13403     27491  2 cups all-purpose flour. 3/4 cup white sugar....   \n",
       "13404     27511  1 package devils food cake mix. 1 package inst...   \n",
       "13405     27546  1 can sliced peaches, drained and chopped. 1/4...   \n",
       "\n",
       "       ReviewCount  CookTimeMin  PrepTimeMin  \\\n",
       "0              304           15           25   \n",
       "1              137           60           15   \n",
       "2              124           80           10   \n",
       "3               39           60           15   \n",
       "4               41           60           10   \n",
       "...            ...          ...          ...   \n",
       "13401            5           30           30   \n",
       "13402           78           60           20   \n",
       "13403          704           25           20   \n",
       "13404          157           50           25   \n",
       "13405           10           50           15   \n",
       "\n",
       "                                        RecipeName  \n",
       "0                     golden crescent rolls recipe  \n",
       "1               poppy seed bread with glaze recipe  \n",
       "2                        applesauce bread i recipe  \n",
       "3                        apple raisin bread recipe  \n",
       "4                  buttermilk oatmeal bread recipe  \n",
       "...                                            ...  \n",
       "13401                   hot coffee frosting recipe  \n",
       "13402  white chocolate blueberry cheesecake recipe  \n",
       "13403                aunt annes coffee cake recipe  \n",
       "13404                  giant ding dong cake recipe  \n",
       "13405                     peach coffee cake recipe  \n",
       "\n",
       "[12351 rows x 6 columns]"
      ]
     },
     "execution_count": 155,
     "metadata": {},
     "output_type": "execute_result"
    }
   ],
   "source": [
    "df_rec"
   ]
  },
  {
   "cell_type": "code",
   "execution_count": 156,
   "metadata": {},
   "outputs": [],
   "source": [
    "df_rec.to_csv('new_recipes.csv', index=False)"
   ]
  },
  {
   "cell_type": "code",
   "execution_count": null,
   "metadata": {},
   "outputs": [],
   "source": []
  },
  {
   "cell_type": "code",
   "execution_count": null,
   "metadata": {},
   "outputs": [],
   "source": []
  },
  {
   "cell_type": "code",
   "execution_count": null,
   "metadata": {},
   "outputs": [],
   "source": []
  },
  {
   "cell_type": "code",
   "execution_count": null,
   "metadata": {},
   "outputs": [],
   "source": []
  },
  {
   "cell_type": "code",
   "execution_count": null,
   "metadata": {},
   "outputs": [],
   "source": []
  },
  {
   "cell_type": "code",
   "execution_count": null,
   "metadata": {},
   "outputs": [],
   "source": []
  },
  {
   "cell_type": "code",
   "execution_count": null,
   "metadata": {},
   "outputs": [],
   "source": []
  },
  {
   "cell_type": "code",
   "execution_count": null,
   "metadata": {},
   "outputs": [],
   "source": []
  },
  {
   "cell_type": "code",
   "execution_count": null,
   "metadata": {},
   "outputs": [],
   "source": []
  },
  {
   "cell_type": "code",
   "execution_count": null,
   "metadata": {},
   "outputs": [],
   "source": []
  },
  {
   "cell_type": "code",
   "execution_count": null,
   "metadata": {},
   "outputs": [],
   "source": []
  },
  {
   "cell_type": "code",
   "execution_count": null,
   "metadata": {},
   "outputs": [],
   "source": []
  },
  {
   "cell_type": "code",
   "execution_count": null,
   "metadata": {},
   "outputs": [],
   "source": []
  },
  {
   "cell_type": "code",
   "execution_count": 27,
   "metadata": {},
   "outputs": [],
   "source": [
    "target = int(du.shape[0]*0.1)\n",
    "new_df = du.copy()\n",
    "for col in du.columns:\n",
    "    if col not in ['Ingredients', 'ReviewCount', 'CookTimeMin', 'PrepTimeMin','RecipeName', 'RecipeID']:\n",
    "        if desc.loc['count', col]  < target:\n",
    "            del new_df[col]"
   ]
  },
  {
   "cell_type": "code",
   "execution_count": 41,
   "metadata": {},
   "outputs": [
    {
     "data": {
      "text/html": [
       "<div>\n",
       "<style scoped>\n",
       "    .dataframe tbody tr th:only-of-type {\n",
       "        vertical-align: middle;\n",
       "    }\n",
       "\n",
       "    .dataframe tbody tr th {\n",
       "        vertical-align: top;\n",
       "    }\n",
       "\n",
       "    .dataframe thead th {\n",
       "        text-align: right;\n",
       "    }\n",
       "</style>\n",
       "<table border=\"1\" class=\"dataframe\">\n",
       "  <thead>\n",
       "    <tr style=\"text-align: right;\">\n",
       "      <th></th>\n",
       "      <th>water</th>\n",
       "      <th>white sugar</th>\n",
       "      <th>salt</th>\n",
       "      <th>eggs</th>\n",
       "      <th>butter</th>\n",
       "      <th>allpurpose flour</th>\n",
       "      <th>baking powder</th>\n",
       "      <th>vegetable oil</th>\n",
       "      <th>milk</th>\n",
       "      <th>vanilla extract</th>\n",
       "      <th>cinnamon</th>\n",
       "      <th>baking soda</th>\n",
       "      <th>cream</th>\n",
       "      <th>Unnamed: 66</th>\n",
       "      <th>black pepper</th>\n",
       "    </tr>\n",
       "  </thead>\n",
       "  <tbody>\n",
       "    <tr>\n",
       "      <th>0</th>\n",
       "      <td>0.75</td>\n",
       "      <td>0.500000</td>\n",
       "      <td>1.0</td>\n",
       "      <td>2.0</td>\n",
       "      <td>0.25</td>\n",
       "      <td>2.00</td>\n",
       "      <td>0.00</td>\n",
       "      <td>0.000000</td>\n",
       "      <td>0.00</td>\n",
       "      <td>0.0</td>\n",
       "      <td>0.0</td>\n",
       "      <td>0.00</td>\n",
       "      <td>0.0</td>\n",
       "      <td>0.0</td>\n",
       "      <td>0.0</td>\n",
       "    </tr>\n",
       "    <tr>\n",
       "      <th>1</th>\n",
       "      <td>0.00</td>\n",
       "      <td>1.000000</td>\n",
       "      <td>0.5</td>\n",
       "      <td>3.0</td>\n",
       "      <td>0.00</td>\n",
       "      <td>2.00</td>\n",
       "      <td>1.50</td>\n",
       "      <td>1.333333</td>\n",
       "      <td>1.50</td>\n",
       "      <td>1.0</td>\n",
       "      <td>0.0</td>\n",
       "      <td>0.00</td>\n",
       "      <td>0.0</td>\n",
       "      <td>0.0</td>\n",
       "      <td>0.0</td>\n",
       "    </tr>\n",
       "    <tr>\n",
       "      <th>2</th>\n",
       "      <td>0.00</td>\n",
       "      <td>1.000000</td>\n",
       "      <td>0.0</td>\n",
       "      <td>3.0</td>\n",
       "      <td>0.00</td>\n",
       "      <td>2.00</td>\n",
       "      <td>0.25</td>\n",
       "      <td>1.000000</td>\n",
       "      <td>0.00</td>\n",
       "      <td>0.0</td>\n",
       "      <td>1.0</td>\n",
       "      <td>1.00</td>\n",
       "      <td>0.5</td>\n",
       "      <td>0.0</td>\n",
       "      <td>0.0</td>\n",
       "    </tr>\n",
       "    <tr>\n",
       "      <th>3</th>\n",
       "      <td>0.00</td>\n",
       "      <td>0.000000</td>\n",
       "      <td>1.0</td>\n",
       "      <td>2.0</td>\n",
       "      <td>0.00</td>\n",
       "      <td>1.50</td>\n",
       "      <td>2.00</td>\n",
       "      <td>0.250000</td>\n",
       "      <td>0.25</td>\n",
       "      <td>0.0</td>\n",
       "      <td>1.0</td>\n",
       "      <td>0.25</td>\n",
       "      <td>0.0</td>\n",
       "      <td>0.0</td>\n",
       "      <td>0.0</td>\n",
       "    </tr>\n",
       "    <tr>\n",
       "      <th>4</th>\n",
       "      <td>0.00</td>\n",
       "      <td>0.000000</td>\n",
       "      <td>0.5</td>\n",
       "      <td>0.0</td>\n",
       "      <td>0.00</td>\n",
       "      <td>1.00</td>\n",
       "      <td>1.00</td>\n",
       "      <td>0.500000</td>\n",
       "      <td>0.00</td>\n",
       "      <td>0.0</td>\n",
       "      <td>0.0</td>\n",
       "      <td>0.50</td>\n",
       "      <td>0.0</td>\n",
       "      <td>0.0</td>\n",
       "      <td>0.0</td>\n",
       "    </tr>\n",
       "    <tr>\n",
       "      <th>...</th>\n",
       "      <td>...</td>\n",
       "      <td>...</td>\n",
       "      <td>...</td>\n",
       "      <td>...</td>\n",
       "      <td>...</td>\n",
       "      <td>...</td>\n",
       "      <td>...</td>\n",
       "      <td>...</td>\n",
       "      <td>...</td>\n",
       "      <td>...</td>\n",
       "      <td>...</td>\n",
       "      <td>...</td>\n",
       "      <td>...</td>\n",
       "      <td>...</td>\n",
       "      <td>...</td>\n",
       "    </tr>\n",
       "    <tr>\n",
       "      <th>12346</th>\n",
       "      <td>0.00</td>\n",
       "      <td>0.000000</td>\n",
       "      <td>0.0</td>\n",
       "      <td>0.0</td>\n",
       "      <td>0.75</td>\n",
       "      <td>0.00</td>\n",
       "      <td>0.00</td>\n",
       "      <td>0.000000</td>\n",
       "      <td>0.00</td>\n",
       "      <td>1.0</td>\n",
       "      <td>0.0</td>\n",
       "      <td>0.00</td>\n",
       "      <td>0.0</td>\n",
       "      <td>0.0</td>\n",
       "      <td>0.0</td>\n",
       "    </tr>\n",
       "    <tr>\n",
       "      <th>12347</th>\n",
       "      <td>0.25</td>\n",
       "      <td>0.500000</td>\n",
       "      <td>0.0</td>\n",
       "      <td>4.0</td>\n",
       "      <td>0.00</td>\n",
       "      <td>1.00</td>\n",
       "      <td>0.00</td>\n",
       "      <td>0.000000</td>\n",
       "      <td>0.00</td>\n",
       "      <td>1.0</td>\n",
       "      <td>0.0</td>\n",
       "      <td>0.00</td>\n",
       "      <td>1.0</td>\n",
       "      <td>0.0</td>\n",
       "      <td>0.0</td>\n",
       "    </tr>\n",
       "    <tr>\n",
       "      <th>12348</th>\n",
       "      <td>0.00</td>\n",
       "      <td>0.666667</td>\n",
       "      <td>0.5</td>\n",
       "      <td>0.0</td>\n",
       "      <td>0.25</td>\n",
       "      <td>0.25</td>\n",
       "      <td>2.00</td>\n",
       "      <td>0.000000</td>\n",
       "      <td>0.75</td>\n",
       "      <td>1.0</td>\n",
       "      <td>1.0</td>\n",
       "      <td>0.00</td>\n",
       "      <td>0.0</td>\n",
       "      <td>0.0</td>\n",
       "      <td>0.0</td>\n",
       "    </tr>\n",
       "    <tr>\n",
       "      <th>12349</th>\n",
       "      <td>1.00</td>\n",
       "      <td>1.000000</td>\n",
       "      <td>0.0</td>\n",
       "      <td>4.0</td>\n",
       "      <td>0.50</td>\n",
       "      <td>0.25</td>\n",
       "      <td>0.00</td>\n",
       "      <td>0.500000</td>\n",
       "      <td>1.00</td>\n",
       "      <td>1.0</td>\n",
       "      <td>0.0</td>\n",
       "      <td>0.00</td>\n",
       "      <td>0.0</td>\n",
       "      <td>0.0</td>\n",
       "      <td>0.0</td>\n",
       "    </tr>\n",
       "    <tr>\n",
       "      <th>12350</th>\n",
       "      <td>0.00</td>\n",
       "      <td>1.000000</td>\n",
       "      <td>0.0</td>\n",
       "      <td>0.0</td>\n",
       "      <td>0.00</td>\n",
       "      <td>1.50</td>\n",
       "      <td>1.00</td>\n",
       "      <td>0.500000</td>\n",
       "      <td>0.00</td>\n",
       "      <td>1.0</td>\n",
       "      <td>0.0</td>\n",
       "      <td>0.00</td>\n",
       "      <td>0.0</td>\n",
       "      <td>2.0</td>\n",
       "      <td>0.0</td>\n",
       "    </tr>\n",
       "  </tbody>\n",
       "</table>\n",
       "<p>12351 rows × 15 columns</p>\n",
       "</div>"
      ],
      "text/plain": [
       "       water  white sugar  salt  eggs  butter  allpurpose flour  \\\n",
       "0       0.75     0.500000   1.0   2.0    0.25              2.00   \n",
       "1       0.00     1.000000   0.5   3.0    0.00              2.00   \n",
       "2       0.00     1.000000   0.0   3.0    0.00              2.00   \n",
       "3       0.00     0.000000   1.0   2.0    0.00              1.50   \n",
       "4       0.00     0.000000   0.5   0.0    0.00              1.00   \n",
       "...      ...          ...   ...   ...     ...               ...   \n",
       "12346   0.00     0.000000   0.0   0.0    0.75              0.00   \n",
       "12347   0.25     0.500000   0.0   4.0    0.00              1.00   \n",
       "12348   0.00     0.666667   0.5   0.0    0.25              0.25   \n",
       "12349   1.00     1.000000   0.0   4.0    0.50              0.25   \n",
       "12350   0.00     1.000000   0.0   0.0    0.00              1.50   \n",
       "\n",
       "       baking powder  vegetable oil  milk  vanilla extract  cinnamon  \\\n",
       "0               0.00       0.000000  0.00              0.0       0.0   \n",
       "1               1.50       1.333333  1.50              1.0       0.0   \n",
       "2               0.25       1.000000  0.00              0.0       1.0   \n",
       "3               2.00       0.250000  0.25              0.0       1.0   \n",
       "4               1.00       0.500000  0.00              0.0       0.0   \n",
       "...              ...            ...   ...              ...       ...   \n",
       "12346           0.00       0.000000  0.00              1.0       0.0   \n",
       "12347           0.00       0.000000  0.00              1.0       0.0   \n",
       "12348           2.00       0.000000  0.75              1.0       1.0   \n",
       "12349           0.00       0.500000  1.00              1.0       0.0   \n",
       "12350           1.00       0.500000  0.00              1.0       0.0   \n",
       "\n",
       "       baking soda  cream  Unnamed: 66  black pepper  \n",
       "0             0.00    0.0          0.0           0.0  \n",
       "1             0.00    0.0          0.0           0.0  \n",
       "2             1.00    0.5          0.0           0.0  \n",
       "3             0.25    0.0          0.0           0.0  \n",
       "4             0.50    0.0          0.0           0.0  \n",
       "...            ...    ...          ...           ...  \n",
       "12346         0.00    0.0          0.0           0.0  \n",
       "12347         0.00    1.0          0.0           0.0  \n",
       "12348         0.00    0.0          0.0           0.0  \n",
       "12349         0.00    0.0          0.0           0.0  \n",
       "12350         0.00    0.0          2.0           0.0  \n",
       "\n",
       "[12351 rows x 15 columns]"
      ]
     },
     "execution_count": 41,
     "metadata": {},
     "output_type": "execute_result"
    }
   ],
   "source": [
    "new_df"
   ]
  },
  {
   "cell_type": "code",
   "execution_count": 29,
   "metadata": {},
   "outputs": [],
   "source": [
    "for col in new_df.columns:\n",
    "    if col not in ['Ingredients', 'ReviewCount', 'CookTimeMin', 'PrepTimeMin','RecipeName', 'RecipeID']:\n",
    "        qq = new_df[col].quantile(0.75)\n",
    "        med = new_df[col].quantile(0.50)\n",
    "        new_df[col] = new_df[col].apply(lambda x : med if x>qq else x)"
   ]
  },
  {
   "cell_type": "code",
   "execution_count": 40,
   "metadata": {},
   "outputs": [],
   "source": [
    "new_df = new_dfs.set_index('RecipeID').iloc[:,5:].fillna(0.0)"
   ]
  },
  {
   "cell_type": "code",
   "execution_count": 32,
   "metadata": {},
   "outputs": [
    {
     "data": {
      "text/plain": [
       "<matplotlib.axes._subplots.AxesSubplot at 0x18623b08fd0>"
      ]
     },
     "execution_count": 32,
     "metadata": {},
     "output_type": "execute_result"
    },
    {
     "data": {
      "image/png": "[encoded data removed]",
      "text/plain": [
       "<Figure size 432x288 with 1 Axes>"
      ]
     },
     "metadata": {
      "needs_background": "light"
     },
     "output_type": "display_data"
    }
   ],
   "source": [
    "new_df['allpurpose flour'].plot.hist()"
   ]
  },
  {
   "cell_type": "code",
   "execution_count": 42,
   "metadata": {},
   "outputs": [],
   "source": [
    "\n",
    "\n",
    "scaler = StandardScaler()\n",
    "fit = scaler.fit(new_df)\n",
    "\n",
    "new_df_scaled = scaler.transform(new_df)\n",
    "\n"
   ]
  },
  {
   "cell_type": "code",
   "execution_count": 43,
   "metadata": {},
   "outputs": [
    {
     "data": {
      "text/plain": [
       "array([[ 1.17284885,  0.39080043,  2.43944808, ..., -0.33362454,\n",
       "        -0.56947452, -0.25286132],\n",
       "       [-0.42602172,  1.45906516,  0.93007395, ..., -0.33362454,\n",
       "        -0.56947452, -0.25286132],\n",
       "       [-0.42602172,  1.45906516, -0.57930018, ...,  1.38120674,\n",
       "        -0.56947452, -0.25286132],\n",
       "       ...,\n",
       "       [-0.42602172,  0.74688867,  0.93007395, ..., -0.33362454,\n",
       "        -0.56947452, -0.25286132],\n",
       "       [ 1.7058057 ,  1.45906516, -0.57930018, ..., -0.33362454,\n",
       "        -0.56947452, -0.25286132],\n",
       "       [-0.42602172,  1.45906516, -0.57930018, ..., -0.33362454,\n",
       "         2.81863772, -0.25286132]])"
      ]
     },
     "execution_count": 43,
     "metadata": {},
     "output_type": "execute_result"
    }
   ],
   "source": [
    "new_df_scaled"
   ]
  },
  {
   "cell_type": "code",
   "execution_count": 45,
   "metadata": {},
   "outputs": [
    {
     "data": {
      "image/png": "[encoded data removed]",
      "text/plain": [
       "<Figure size 720x432 with 1 Axes>"
      ]
     },
     "metadata": {
      "needs_background": "light"
     },
     "output_type": "display_data"
    }
   ],
   "source": [
    "# Investigate the variance accounted for by each principal component.\n",
    "def scree_plot(pca):\n",
    "    '''\n",
    "    Creates a scree plot associated with the principal components             \n",
    "    '''\n",
    "    num_components = len(pca.explained_variance_ratio_) ## num of Principal components (PCs)\n",
    "    ind = np.arange(num_components) # create an index list\n",
    "    vals = pca.explained_variance_ratio_ # show the % of vaition explained by each PC\n",
    "    cumvals = np.cumsum(vals) # cummulative sum to see the % of vaiation explained by PC1+PC2+PC3+....+PCn\n",
    "\n",
    "    ## plotting\n",
    "    plt.figure(figsize=(10, 6))\n",
    "    ax = plt.subplot(111)\n",
    "    ax.bar(ind, vals) # create bar plot to show %var explained by each PC\n",
    "    ax.plot(ind, cumvals) # create line plot to show % increase in exp variance for every added PC\n",
    " \n",
    "    ## set plot lables\n",
    "    ax.xaxis.set_tick_params(width=0)\n",
    "    ax.yaxis.set_tick_params(width=2, length=12)\n",
    "    ax.set_xlabel(\"Principal Component\")\n",
    "    ax.set_ylabel(\"Variance Explained (%)\")\n",
    "    plt.title('Explained Variance Per Principal Component')\n",
    "    \n",
    "    return {i:v for i,v in zip(ind,cumvals) if v<=99}\n",
    "    \n",
    "# Apply PCA to the data.\n",
    "pca = PCA(n_components=15, random_state=45)\n",
    "X_pca = pca.fit_transform(new_df) ## fit it to the data to generate the PCs\n",
    "\n",
    "plot = scree_plot(pca) # call the function above\n"
   ]
  },
  {
   "cell_type": "code",
   "execution_count": 48,
   "metadata": {},
   "outputs": [
    {
     "data": {
      "text/plain": [
       "(12351, 2)"
      ]
     },
     "execution_count": 48,
     "metadata": {},
     "output_type": "execute_result"
    }
   ],
   "source": [
    "from sklearn.manifold import MDS, Isomap, TSNE\n",
    "embedding = TSNE(n_components=2, n_jobs=-1)\n",
    "X_transformed = embedding.fit_transform(new_df)\n",
    "X_transformed.shape"
   ]
  },
  {
   "cell_type": "code",
   "execution_count": 49,
   "metadata": {},
   "outputs": [
    {
     "data": {
      "text/plain": [
       "<matplotlib.collections.PathCollection at 0x186235c4630>"
      ]
     },
     "execution_count": 49,
     "metadata": {},
     "output_type": "execute_result"
    },
    {
     "data": {
      "image/png": "[encoded data removed]",
      "text/plain": [
       "<Figure size 432x288 with 1 Axes>"
      ]
     },
     "metadata": {
      "needs_background": "light"
     },
     "output_type": "display_data"
    }
   ],
   "source": [
    "plt.scatter(X_transformed[:,0],X_transformed[:,1])"
   ]
  },
  {
   "cell_type": "code",
   "execution_count": 78,
   "metadata": {},
   "outputs": [],
   "source": [
    "from sklearn.ensemble import IsolationForest\n",
    "from sklearn.svm import OneClassSVM\n",
    "from sklearn.covariance import EllipticEnvelope\n",
    "\n",
    "IF = IsolationForest(random_state=0,contamination=0.01)\n",
    "EE = EllipticEnvelope(support_fraction=1, contamination=0.01)\n",
    "SVM = OneClassSVM(nu=0.2, gamma='auto')"
   ]
  },
  {
   "cell_type": "code",
   "execution_count": 79,
   "metadata": {},
   "outputs": [
    {
     "data": {
      "text/plain": [
       "array([1, 1, 1, ..., 1, 1, 1])"
      ]
     },
     "execution_count": 79,
     "metadata": {},
     "output_type": "execute_result"
    }
   ],
   "source": [
    "labels = EE.fit_predict(X_transformed)\n",
    "labels"
   ]
  },
  {
   "cell_type": "code",
   "execution_count": 53,
   "metadata": {},
   "outputs": [
    {
     "data": {
      "text/plain": [
       "array([0, 0, 0, ..., 1, 0, 1], dtype=int64)"
      ]
     },
     "execution_count": 53,
     "metadata": {},
     "output_type": "execute_result"
    }
   ],
   "source": [
    "from sklearn.cluster import DBSCAN\n",
    "clustering = DBSCAN(eps=4, min_samples=2).fit(X_transformed)\n",
    "clustering.labels_"
   ]
  },
  {
   "cell_type": "code",
   "execution_count": 54,
   "metadata": {},
   "outputs": [
    {
     "data": {
      "text/plain": [
       "<matplotlib.collections.PathCollection at 0x18623236e80>"
      ]
     },
     "execution_count": 54,
     "metadata": {},
     "output_type": "execute_result"
    },
    {
     "data": {
      "image/png": "[encoded data removed]",
      "text/plain": [
       "<Figure size 432x288 with 1 Axes>"
      ]
     },
     "metadata": {
      "needs_background": "light"
     },
     "output_type": "display_data"
    }
   ],
   "source": [
    "plt.scatter(X_transformed[:,0],X_transformed[:,1], c=clustering.labels_)"
   ]
  },
  {
   "cell_type": "code",
   "execution_count": null,
   "metadata": {},
   "outputs": [],
   "source": []
  },
  {
   "cell_type": "code",
   "execution_count": 80,
   "metadata": {},
   "outputs": [
    {
     "data": {
      "text/plain": [
       "<matplotlib.collections.PathCollection at 0x18624eb9ba8>"
      ]
     },
     "execution_count": 80,
     "metadata": {},
     "output_type": "execute_result"
    },
    {
     "data": {
      "image/png": "[encoded data removed]",
      "text/plain": [
       "<Figure size 432x288 with 1 Axes>"
      ]
     },
     "metadata": {
      "needs_background": "light"
     },
     "output_type": "display_data"
    }
   ],
   "source": [
    "plt.scatter(X_transformed[:,0],X_transformed[:,1], c=labels)"
   ]
  },
  {
   "cell_type": "code",
   "execution_count": 56,
   "metadata": {},
   "outputs": [],
   "source": [
    "c_labels = clustering.labels_\n",
    "cc = np.unique(clustering.labels_, return_counts=True)\n",
    "for i,c in enumerate(cc[1]):\n",
    "    if c> 100:\n",
    "        c_labels[c_labels==cc[0][i]] = 0\n",
    "    else:\n",
    "        c_labels[c_labels==cc[0][i]] = 1\n",
    "    "
   ]
  },
  {
   "cell_type": "code",
   "execution_count": 57,
   "metadata": {},
   "outputs": [
    {
     "data": {
      "text/plain": [
       "(array([0, 1], dtype=int64), array([11655,   696], dtype=int64))"
      ]
     },
     "execution_count": 57,
     "metadata": {},
     "output_type": "execute_result"
    }
   ],
   "source": [
    "np.unique(c_labels, return_counts=True)"
   ]
  },
  {
   "cell_type": "code",
   "execution_count": 58,
   "metadata": {},
   "outputs": [
    {
     "data": {
      "text/plain": [
       "<matplotlib.collections.PathCollection at 0x18639df04e0>"
      ]
     },
     "execution_count": 58,
     "metadata": {},
     "output_type": "execute_result"
    },
    {
     "data": {
      "image/png": "[encoded data removed]",
      "text/plain": [
       "<Figure size 432x288 with 1 Axes>"
      ]
     },
     "metadata": {
      "needs_background": "light"
     },
     "output_type": "display_data"
    }
   ],
   "source": [
    "plt.scatter(X_transformed[:,0],X_transformed[:,1], c=c_labels)"
   ]
  },
  {
   "cell_type": "code",
   "execution_count": null,
   "metadata": {},
   "outputs": [],
   "source": []
  },
  {
   "cell_type": "code",
   "execution_count": null,
   "metadata": {},
   "outputs": [],
   "source": []
  },
  {
   "cell_type": "code",
   "execution_count": null,
   "metadata": {},
   "outputs": [],
   "source": []
  },
  {
   "cell_type": "code",
   "execution_count": 19,
   "metadata": {},
   "outputs": [],
   "source": [
    "pca = PCA(n_components=200, random_state=45)\n",
    "pca_fit = pca.fit(new_df) # X_train_final\n",
    "\n",
    "X_train_pca = pca_fit.transform(new_df)\n"
   ]
  },
  {
   "cell_type": "code",
   "execution_count": 27,
   "metadata": {},
   "outputs": [
    {
     "data": {
      "text/plain": [
       "(12351, 2)"
      ]
     },
     "execution_count": 27,
     "metadata": {},
     "output_type": "execute_result"
    }
   ],
   "source": [
    "X_train_pca[:,0:2].shape"
   ]
  },
  {
   "cell_type": "code",
   "execution_count": 30,
   "metadata": {},
   "outputs": [
    {
     "data": {
      "text/plain": [
       "<matplotlib.collections.PathCollection at 0x22258a66278>"
      ]
     },
     "execution_count": 30,
     "metadata": {},
     "output_type": "execute_result"
    },
    {
     "data": {
      "image/png": "[encoded data removed]",
      "text/plain": [
       "<Figure size 432x288 with 1 Axes>"
      ]
     },
     "metadata": {
      "needs_background": "light"
     },
     "output_type": "display_data"
    }
   ],
   "source": [
    "import seaborn as sns\n",
    "plt.scatter(X_train_pca[:,0],X_train_pca[:,1])"
   ]
  },
  {
   "cell_type": "code",
   "execution_count": 31,
   "metadata": {},
   "outputs": [],
   "source": [
    "from sklearn.metrics.pairwise import cosine_similarity"
   ]
  },
  {
   "cell_type": "code",
   "execution_count": 50,
   "metadata": {},
   "outputs": [],
   "source": [
    "A = cosine_similarity(new_df)"
   ]
  },
  {
   "cell_type": "code",
   "execution_count": 40,
   "metadata": {},
   "outputs": [],
   "source": [
    "A = A-np.identity(A.shape[0])"
   ]
  },
  {
   "cell_type": "code",
   "execution_count": 51,
   "metadata": {},
   "outputs": [
    {
     "data": {
      "text/plain": [
       "64"
      ]
     },
     "execution_count": 51,
     "metadata": {},
     "output_type": "execute_result"
    }
   ],
   "source": [
    "np.argmin(A[0])"
   ]
  },
  {
   "cell_type": "code",
   "execution_count": 52,
   "metadata": {},
   "outputs": [
    {
     "data": {
      "text/plain": [
       "0.0"
      ]
     },
     "execution_count": 52,
     "metadata": {},
     "output_type": "execute_result"
    }
   ],
   "source": [
    "A[0,64]"
   ]
  },
  {
   "cell_type": "code",
   "execution_count": 47,
   "metadata": {},
   "outputs": [
    {
     "data": {
      "text/plain": [
       "Ingredients                2 packages active dry yeast. 3/4 cup warm wate...\n",
       "ReviewCount                                                              304\n",
       "CookTimeMin                                                               15\n",
       "PrepTimeMin                                                               25\n",
       "RecipeName                                      golden crescent rolls recipe\n",
       "                                                 ...                        \n",
       "pizza crust bread shell                                                  NaN\n",
       "buitoni pesto basil                                                      NaN\n",
       "brown sugar replacement                                                  NaN\n",
       "splenda granular                                                         NaN\n",
       "treacle                                                                  NaN\n",
       "Name: 0, Length: 3759, dtype: object"
      ]
     },
     "execution_count": 47,
     "metadata": {},
     "output_type": "execute_result"
    }
   ],
   "source": [
    "du.iloc[0,:]"
   ]
  },
  {
   "cell_type": "code",
   "execution_count": 53,
   "metadata": {},
   "outputs": [
    {
     "data": {
      "text/plain": [
       "Ingredients                1 pound frozen bread dough, thawed\n",
       "ReviewCount                                                 8\n",
       "CookTimeMin                                                20\n",
       "PrepTimeMin                                                10\n",
       "RecipeName                              bread bowls ii recipe\n",
       "                                          ...                \n",
       "pizza crust bread shell                                   NaN\n",
       "buitoni pesto basil                                       NaN\n",
       "brown sugar replacement                                   NaN\n",
       "splenda granular                                          NaN\n",
       "treacle                                                   NaN\n",
       "Name: 64, Length: 3759, dtype: object"
      ]
     },
     "execution_count": 53,
     "metadata": {},
     "output_type": "execute_result"
    }
   ],
   "source": [
    "du.iloc[64,:]"
   ]
  },
  {
   "cell_type": "code",
   "execution_count": 59,
   "metadata": {},
   "outputs": [],
   "source": [
    "du['label_IF'] = labels"
   ]
  },
  {
   "cell_type": "code",
   "execution_count": 60,
   "metadata": {},
   "outputs": [],
   "source": [
    "du['label_DBSCAN'] = c_labels"
   ]
  },
  {
   "cell_type": "code",
   "execution_count": 61,
   "metadata": {},
   "outputs": [
    {
     "data": {
      "text/html": [
       "<div>\n",
       "<style scoped>\n",
       "    .dataframe tbody tr th:only-of-type {\n",
       "        vertical-align: middle;\n",
       "    }\n",
       "\n",
       "    .dataframe tbody tr th {\n",
       "        vertical-align: top;\n",
       "    }\n",
       "\n",
       "    .dataframe thead th {\n",
       "        text-align: right;\n",
       "    }\n",
       "</style>\n",
       "<table border=\"1\" class=\"dataframe\">\n",
       "  <thead>\n",
       "    <tr style=\"text-align: right;\">\n",
       "      <th></th>\n",
       "      <th>RecipeID</th>\n",
       "      <th>Ingredients</th>\n",
       "      <th>ReviewCount</th>\n",
       "      <th>CookTimeMin</th>\n",
       "      <th>PrepTimeMin</th>\n",
       "      <th>RecipeName</th>\n",
       "      <th>yeast</th>\n",
       "      <th>water</th>\n",
       "      <th>white sugar</th>\n",
       "      <th>salt</th>\n",
       "      <th>...</th>\n",
       "      <th>chocolatehazelnut spread</th>\n",
       "      <th>loaf italian</th>\n",
       "      <th>cedar plank</th>\n",
       "      <th>pizza crust bread shell</th>\n",
       "      <th>buitoni pesto basil</th>\n",
       "      <th>brown sugar replacement</th>\n",
       "      <th>splenda granular</th>\n",
       "      <th>treacle</th>\n",
       "      <th>label_IF</th>\n",
       "      <th>label_DBSCAN</th>\n",
       "    </tr>\n",
       "  </thead>\n",
       "  <tbody>\n",
       "    <tr>\n",
       "      <th>40</th>\n",
       "      <td>7060</td>\n",
       "      <td>1 egg. 1/4 cup apple juice. 1 tablespoon unsal...</td>\n",
       "      <td>12</td>\n",
       "      <td>15</td>\n",
       "      <td>10</td>\n",
       "      <td>golly gee gluten</td>\n",
       "      <td>NaN</td>\n",
       "      <td>NaN</td>\n",
       "      <td>NaN</td>\n",
       "      <td>0.25</td>\n",
       "      <td>...</td>\n",
       "      <td>NaN</td>\n",
       "      <td>NaN</td>\n",
       "      <td>NaN</td>\n",
       "      <td>NaN</td>\n",
       "      <td>NaN</td>\n",
       "      <td>NaN</td>\n",
       "      <td>NaN</td>\n",
       "      <td>NaN</td>\n",
       "      <td>-1</td>\n",
       "      <td>0</td>\n",
       "    </tr>\n",
       "    <tr>\n",
       "      <th>73</th>\n",
       "      <td>7101</td>\n",
       "      <td>1 package yellow cake mix. 4 eggs. 1/4 cup veg...</td>\n",
       "      <td>45</td>\n",
       "      <td>30</td>\n",
       "      <td>15</td>\n",
       "      <td>pistachio bread recipe</td>\n",
       "      <td>NaN</td>\n",
       "      <td>2.0</td>\n",
       "      <td>2.0</td>\n",
       "      <td>NaN</td>\n",
       "      <td>...</td>\n",
       "      <td>NaN</td>\n",
       "      <td>NaN</td>\n",
       "      <td>NaN</td>\n",
       "      <td>NaN</td>\n",
       "      <td>NaN</td>\n",
       "      <td>NaN</td>\n",
       "      <td>NaN</td>\n",
       "      <td>NaN</td>\n",
       "      <td>-1</td>\n",
       "      <td>0</td>\n",
       "    </tr>\n",
       "    <tr>\n",
       "      <th>97</th>\n",
       "      <td>7135</td>\n",
       "      <td>5 cups day-old bread cubes. 4 cups scalded mil...</td>\n",
       "      <td>56</td>\n",
       "      <td>30</td>\n",
       "      <td>15</td>\n",
       "      <td>bread pudding with lemon sauce i recipe</td>\n",
       "      <td>NaN</td>\n",
       "      <td>1.0</td>\n",
       "      <td>0.5</td>\n",
       "      <td>0.50</td>\n",
       "      <td>...</td>\n",
       "      <td>NaN</td>\n",
       "      <td>NaN</td>\n",
       "      <td>NaN</td>\n",
       "      <td>NaN</td>\n",
       "      <td>NaN</td>\n",
       "      <td>NaN</td>\n",
       "      <td>NaN</td>\n",
       "      <td>NaN</td>\n",
       "      <td>-1</td>\n",
       "      <td>0</td>\n",
       "    </tr>\n",
       "    <tr>\n",
       "      <th>250</th>\n",
       "      <td>7327</td>\n",
       "      <td>1 package german chocolate cake mix without pu...</td>\n",
       "      <td>27</td>\n",
       "      <td>30</td>\n",
       "      <td>15</td>\n",
       "      <td>earthquake cake i recipe</td>\n",
       "      <td>NaN</td>\n",
       "      <td>NaN</td>\n",
       "      <td>NaN</td>\n",
       "      <td>NaN</td>\n",
       "      <td>...</td>\n",
       "      <td>NaN</td>\n",
       "      <td>NaN</td>\n",
       "      <td>NaN</td>\n",
       "      <td>NaN</td>\n",
       "      <td>NaN</td>\n",
       "      <td>NaN</td>\n",
       "      <td>NaN</td>\n",
       "      <td>NaN</td>\n",
       "      <td>-1</td>\n",
       "      <td>0</td>\n",
       "    </tr>\n",
       "    <tr>\n",
       "      <th>348</th>\n",
       "      <td>7465</td>\n",
       "      <td>1 can cherry pie filling. 1 can crushed pineap...</td>\n",
       "      <td>140</td>\n",
       "      <td>30</td>\n",
       "      <td>15</td>\n",
       "      <td>dump cake iv recipe</td>\n",
       "      <td>NaN</td>\n",
       "      <td>NaN</td>\n",
       "      <td>NaN</td>\n",
       "      <td>NaN</td>\n",
       "      <td>...</td>\n",
       "      <td>NaN</td>\n",
       "      <td>NaN</td>\n",
       "      <td>NaN</td>\n",
       "      <td>NaN</td>\n",
       "      <td>NaN</td>\n",
       "      <td>NaN</td>\n",
       "      <td>NaN</td>\n",
       "      <td>NaN</td>\n",
       "      <td>-1</td>\n",
       "      <td>0</td>\n",
       "    </tr>\n",
       "    <tr>\n",
       "      <th>...</th>\n",
       "      <td>...</td>\n",
       "      <td>...</td>\n",
       "      <td>...</td>\n",
       "      <td>...</td>\n",
       "      <td>...</td>\n",
       "      <td>...</td>\n",
       "      <td>...</td>\n",
       "      <td>...</td>\n",
       "      <td>...</td>\n",
       "      <td>...</td>\n",
       "      <td>...</td>\n",
       "      <td>...</td>\n",
       "      <td>...</td>\n",
       "      <td>...</td>\n",
       "      <td>...</td>\n",
       "      <td>...</td>\n",
       "      <td>...</td>\n",
       "      <td>...</td>\n",
       "      <td>...</td>\n",
       "      <td>...</td>\n",
       "      <td>...</td>\n",
       "    </tr>\n",
       "    <tr>\n",
       "      <th>12193</th>\n",
       "      <td>26756</td>\n",
       "      <td>1/2 cup sour cream. 1/2 cup mayonnaise. 1 cup ...</td>\n",
       "      <td>72</td>\n",
       "      <td>5</td>\n",
       "      <td>15</td>\n",
       "      <td>creamy cheese bread recipe</td>\n",
       "      <td>NaN</td>\n",
       "      <td>NaN</td>\n",
       "      <td>NaN</td>\n",
       "      <td>NaN</td>\n",
       "      <td>...</td>\n",
       "      <td>NaN</td>\n",
       "      <td>NaN</td>\n",
       "      <td>NaN</td>\n",
       "      <td>NaN</td>\n",
       "      <td>NaN</td>\n",
       "      <td>NaN</td>\n",
       "      <td>NaN</td>\n",
       "      <td>NaN</td>\n",
       "      <td>-1</td>\n",
       "      <td>1</td>\n",
       "    </tr>\n",
       "    <tr>\n",
       "      <th>12198</th>\n",
       "      <td>26780</td>\n",
       "      <td>1 cup butter, softened. 3 tablespoons poppy se...</td>\n",
       "      <td>306</td>\n",
       "      <td>12</td>\n",
       "      <td>15</td>\n",
       "      <td>easy ham and cheese appetizer sandwiches recipe</td>\n",
       "      <td>NaN</td>\n",
       "      <td>NaN</td>\n",
       "      <td>NaN</td>\n",
       "      <td>NaN</td>\n",
       "      <td>...</td>\n",
       "      <td>NaN</td>\n",
       "      <td>NaN</td>\n",
       "      <td>NaN</td>\n",
       "      <td>NaN</td>\n",
       "      <td>NaN</td>\n",
       "      <td>NaN</td>\n",
       "      <td>NaN</td>\n",
       "      <td>NaN</td>\n",
       "      <td>-1</td>\n",
       "      <td>0</td>\n",
       "    </tr>\n",
       "    <tr>\n",
       "      <th>12248</th>\n",
       "      <td>26928</td>\n",
       "      <td>5 ounces almonds. 1/2 package cream cheese, so...</td>\n",
       "      <td>12</td>\n",
       "      <td>10</td>\n",
       "      <td>30</td>\n",
       "      <td>roquefort grapes recipe</td>\n",
       "      <td>NaN</td>\n",
       "      <td>NaN</td>\n",
       "      <td>NaN</td>\n",
       "      <td>NaN</td>\n",
       "      <td>...</td>\n",
       "      <td>NaN</td>\n",
       "      <td>NaN</td>\n",
       "      <td>NaN</td>\n",
       "      <td>NaN</td>\n",
       "      <td>NaN</td>\n",
       "      <td>NaN</td>\n",
       "      <td>NaN</td>\n",
       "      <td>NaN</td>\n",
       "      <td>-1</td>\n",
       "      <td>1</td>\n",
       "    </tr>\n",
       "    <tr>\n",
       "      <th>12251</th>\n",
       "      <td>26945</td>\n",
       "      <td>1 pound ground italian sausage. 1/2 cup shredd...</td>\n",
       "      <td>111</td>\n",
       "      <td>10</td>\n",
       "      <td>25</td>\n",
       "      <td>sausage flowers recipe</td>\n",
       "      <td>NaN</td>\n",
       "      <td>NaN</td>\n",
       "      <td>NaN</td>\n",
       "      <td>NaN</td>\n",
       "      <td>...</td>\n",
       "      <td>NaN</td>\n",
       "      <td>NaN</td>\n",
       "      <td>NaN</td>\n",
       "      <td>NaN</td>\n",
       "      <td>NaN</td>\n",
       "      <td>NaN</td>\n",
       "      <td>NaN</td>\n",
       "      <td>NaN</td>\n",
       "      <td>-1</td>\n",
       "      <td>1</td>\n",
       "    </tr>\n",
       "    <tr>\n",
       "      <th>12265</th>\n",
       "      <td>26989</td>\n",
       "      <td>1 tablespoon butter. 1/2 cup finely chopped on...</td>\n",
       "      <td>22</td>\n",
       "      <td>15</td>\n",
       "      <td>30</td>\n",
       "      <td>tasty spinach treats recipe</td>\n",
       "      <td>NaN</td>\n",
       "      <td>NaN</td>\n",
       "      <td>NaN</td>\n",
       "      <td>NaN</td>\n",
       "      <td>...</td>\n",
       "      <td>NaN</td>\n",
       "      <td>NaN</td>\n",
       "      <td>NaN</td>\n",
       "      <td>NaN</td>\n",
       "      <td>NaN</td>\n",
       "      <td>NaN</td>\n",
       "      <td>NaN</td>\n",
       "      <td>NaN</td>\n",
       "      <td>-1</td>\n",
       "      <td>0</td>\n",
       "    </tr>\n",
       "  </tbody>\n",
       "</table>\n",
       "<p>124 rows × 3762 columns</p>\n",
       "</div>"
      ],
      "text/plain": [
       "       RecipeID                                        Ingredients  \\\n",
       "40         7060  1 egg. 1/4 cup apple juice. 1 tablespoon unsal...   \n",
       "73         7101  1 package yellow cake mix. 4 eggs. 1/4 cup veg...   \n",
       "97         7135  5 cups day-old bread cubes. 4 cups scalded mil...   \n",
       "250        7327  1 package german chocolate cake mix without pu...   \n",
       "348        7465  1 can cherry pie filling. 1 can crushed pineap...   \n",
       "...         ...                                                ...   \n",
       "12193     26756  1/2 cup sour cream. 1/2 cup mayonnaise. 1 cup ...   \n",
       "12198     26780  1 cup butter, softened. 3 tablespoons poppy se...   \n",
       "12248     26928  5 ounces almonds. 1/2 package cream cheese, so...   \n",
       "12251     26945  1 pound ground italian sausage. 1/2 cup shredd...   \n",
       "12265     26989  1 tablespoon butter. 1/2 cup finely chopped on...   \n",
       "\n",
       "       ReviewCount  CookTimeMin  PrepTimeMin  \\\n",
       "40              12           15           10   \n",
       "73              45           30           15   \n",
       "97              56           30           15   \n",
       "250             27           30           15   \n",
       "348            140           30           15   \n",
       "...            ...          ...          ...   \n",
       "12193           72            5           15   \n",
       "12198          306           12           15   \n",
       "12248           12           10           30   \n",
       "12251          111           10           25   \n",
       "12265           22           15           30   \n",
       "\n",
       "                                            RecipeName  yeast  water  \\\n",
       "40                                    golly gee gluten    NaN    NaN   \n",
       "73                              pistachio bread recipe    NaN    2.0   \n",
       "97             bread pudding with lemon sauce i recipe    NaN    1.0   \n",
       "250                           earthquake cake i recipe    NaN    NaN   \n",
       "348                                dump cake iv recipe    NaN    NaN   \n",
       "...                                                ...    ...    ...   \n",
       "12193                       creamy cheese bread recipe    NaN    NaN   \n",
       "12198  easy ham and cheese appetizer sandwiches recipe    NaN    NaN   \n",
       "12248                          roquefort grapes recipe    NaN    NaN   \n",
       "12251                           sausage flowers recipe    NaN    NaN   \n",
       "12265                      tasty spinach treats recipe    NaN    NaN   \n",
       "\n",
       "       white sugar  salt  ...  chocolatehazelnut spread  loaf italian  \\\n",
       "40             NaN  0.25  ...                       NaN           NaN   \n",
       "73             2.0   NaN  ...                       NaN           NaN   \n",
       "97             0.5  0.50  ...                       NaN           NaN   \n",
       "250            NaN   NaN  ...                       NaN           NaN   \n",
       "348            NaN   NaN  ...                       NaN           NaN   \n",
       "...            ...   ...  ...                       ...           ...   \n",
       "12193          NaN   NaN  ...                       NaN           NaN   \n",
       "12198          NaN   NaN  ...                       NaN           NaN   \n",
       "12248          NaN   NaN  ...                       NaN           NaN   \n",
       "12251          NaN   NaN  ...                       NaN           NaN   \n",
       "12265          NaN   NaN  ...                       NaN           NaN   \n",
       "\n",
       "       cedar plank  pizza crust bread shell  buitoni pesto basil  \\\n",
       "40             NaN                      NaN                  NaN   \n",
       "73             NaN                      NaN                  NaN   \n",
       "97             NaN                      NaN                  NaN   \n",
       "250            NaN                      NaN                  NaN   \n",
       "348            NaN                      NaN                  NaN   \n",
       "...            ...                      ...                  ...   \n",
       "12193          NaN                      NaN                  NaN   \n",
       "12198          NaN                      NaN                  NaN   \n",
       "12248          NaN                      NaN                  NaN   \n",
       "12251          NaN                      NaN                  NaN   \n",
       "12265          NaN                      NaN                  NaN   \n",
       "\n",
       "       brown sugar replacement  splenda granular  treacle  label_IF  \\\n",
       "40                         NaN               NaN      NaN        -1   \n",
       "73                         NaN               NaN      NaN        -1   \n",
       "97                         NaN               NaN      NaN        -1   \n",
       "250                        NaN               NaN      NaN        -1   \n",
       "348                        NaN               NaN      NaN        -1   \n",
       "...                        ...               ...      ...       ...   \n",
       "12193                      NaN               NaN      NaN        -1   \n",
       "12198                      NaN               NaN      NaN        -1   \n",
       "12248                      NaN               NaN      NaN        -1   \n",
       "12251                      NaN               NaN      NaN        -1   \n",
       "12265                      NaN               NaN      NaN        -1   \n",
       "\n",
       "       label_DBSCAN  \n",
       "40                0  \n",
       "73                0  \n",
       "97                0  \n",
       "250               0  \n",
       "348               0  \n",
       "...             ...  \n",
       "12193             1  \n",
       "12198             0  \n",
       "12248             1  \n",
       "12251             1  \n",
       "12265             0  \n",
       "\n",
       "[124 rows x 3762 columns]"
      ]
     },
     "execution_count": 61,
     "metadata": {},
     "output_type": "execute_result"
    }
   ],
   "source": [
    "du[du['label_IF']!=1]"
   ]
  },
  {
   "cell_type": "code",
   "execution_count": 62,
   "metadata": {},
   "outputs": [
    {
     "data": {
      "text/html": [
       "<div>\n",
       "<style scoped>\n",
       "    .dataframe tbody tr th:only-of-type {\n",
       "        vertical-align: middle;\n",
       "    }\n",
       "\n",
       "    .dataframe tbody tr th {\n",
       "        vertical-align: top;\n",
       "    }\n",
       "\n",
       "    .dataframe thead th {\n",
       "        text-align: right;\n",
       "    }\n",
       "</style>\n",
       "<table border=\"1\" class=\"dataframe\">\n",
       "  <thead>\n",
       "    <tr style=\"text-align: right;\">\n",
       "      <th></th>\n",
       "      <th>RecipeID</th>\n",
       "      <th>Ingredients</th>\n",
       "      <th>ReviewCount</th>\n",
       "      <th>CookTimeMin</th>\n",
       "      <th>PrepTimeMin</th>\n",
       "      <th>RecipeName</th>\n",
       "      <th>yeast</th>\n",
       "      <th>water</th>\n",
       "      <th>white sugar</th>\n",
       "      <th>salt</th>\n",
       "      <th>...</th>\n",
       "      <th>chocolatehazelnut spread</th>\n",
       "      <th>loaf italian</th>\n",
       "      <th>cedar plank</th>\n",
       "      <th>pizza crust bread shell</th>\n",
       "      <th>buitoni pesto basil</th>\n",
       "      <th>brown sugar replacement</th>\n",
       "      <th>splenda granular</th>\n",
       "      <th>treacle</th>\n",
       "      <th>label_IF</th>\n",
       "      <th>label_DBSCAN</th>\n",
       "    </tr>\n",
       "  </thead>\n",
       "  <tbody>\n",
       "    <tr>\n",
       "      <th>19</th>\n",
       "      <td>7026</td>\n",
       "      <td>1 cup bread flour. 1 1/4 cups whole wheat flou...</td>\n",
       "      <td>37</td>\n",
       "      <td>180</td>\n",
       "      <td>5</td>\n",
       "      <td>honey oatmeal bread i recipe</td>\n",
       "      <td>0.25</td>\n",
       "      <td>0.50</td>\n",
       "      <td>NaN</td>\n",
       "      <td>1.0</td>\n",
       "      <td>...</td>\n",
       "      <td>NaN</td>\n",
       "      <td>NaN</td>\n",
       "      <td>NaN</td>\n",
       "      <td>NaN</td>\n",
       "      <td>NaN</td>\n",
       "      <td>NaN</td>\n",
       "      <td>NaN</td>\n",
       "      <td>NaN</td>\n",
       "      <td>1</td>\n",
       "      <td>1</td>\n",
       "    </tr>\n",
       "    <tr>\n",
       "      <th>68</th>\n",
       "      <td>7092</td>\n",
       "      <td>2 1/2 teaspoons active dry yeast. 1/4 cup warm...</td>\n",
       "      <td>70</td>\n",
       "      <td>180</td>\n",
       "      <td>10</td>\n",
       "      <td>homemade wonderful bread recipe</td>\n",
       "      <td>2.50</td>\n",
       "      <td>0.25</td>\n",
       "      <td>NaN</td>\n",
       "      <td>NaN</td>\n",
       "      <td>...</td>\n",
       "      <td>NaN</td>\n",
       "      <td>NaN</td>\n",
       "      <td>NaN</td>\n",
       "      <td>NaN</td>\n",
       "      <td>NaN</td>\n",
       "      <td>NaN</td>\n",
       "      <td>NaN</td>\n",
       "      <td>NaN</td>\n",
       "      <td>1</td>\n",
       "      <td>1</td>\n",
       "    </tr>\n",
       "    <tr>\n",
       "      <th>161</th>\n",
       "      <td>7218</td>\n",
       "      <td>1 1/2 cups whole meal rye flour. 3/4 cup filte...</td>\n",
       "      <td>5</td>\n",
       "      <td>30</td>\n",
       "      <td>15</td>\n",
       "      <td>rye starter recipe</td>\n",
       "      <td>NaN</td>\n",
       "      <td>0.75</td>\n",
       "      <td>NaN</td>\n",
       "      <td>NaN</td>\n",
       "      <td>...</td>\n",
       "      <td>NaN</td>\n",
       "      <td>NaN</td>\n",
       "      <td>NaN</td>\n",
       "      <td>NaN</td>\n",
       "      <td>NaN</td>\n",
       "      <td>NaN</td>\n",
       "      <td>NaN</td>\n",
       "      <td>NaN</td>\n",
       "      <td>1</td>\n",
       "      <td>1</td>\n",
       "    </tr>\n",
       "    <tr>\n",
       "      <th>266</th>\n",
       "      <td>7346</td>\n",
       "      <td>1 package white cake mix. 1 cup sour cream. 2 ...</td>\n",
       "      <td>121</td>\n",
       "      <td>30</td>\n",
       "      <td>30</td>\n",
       "      <td>coconut cake i recipe</td>\n",
       "      <td>NaN</td>\n",
       "      <td>NaN</td>\n",
       "      <td>2.00</td>\n",
       "      <td>NaN</td>\n",
       "      <td>...</td>\n",
       "      <td>NaN</td>\n",
       "      <td>NaN</td>\n",
       "      <td>NaN</td>\n",
       "      <td>NaN</td>\n",
       "      <td>NaN</td>\n",
       "      <td>NaN</td>\n",
       "      <td>NaN</td>\n",
       "      <td>NaN</td>\n",
       "      <td>1</td>\n",
       "      <td>1</td>\n",
       "    </tr>\n",
       "    <tr>\n",
       "      <th>308</th>\n",
       "      <td>7409</td>\n",
       "      <td>11 ounces cream cheese, softened. 3/4 cup whit...</td>\n",
       "      <td>205</td>\n",
       "      <td>30</td>\n",
       "      <td>15</td>\n",
       "      <td>strawberry torte recipe</td>\n",
       "      <td>NaN</td>\n",
       "      <td>NaN</td>\n",
       "      <td>0.75</td>\n",
       "      <td>NaN</td>\n",
       "      <td>...</td>\n",
       "      <td>NaN</td>\n",
       "      <td>NaN</td>\n",
       "      <td>NaN</td>\n",
       "      <td>NaN</td>\n",
       "      <td>NaN</td>\n",
       "      <td>NaN</td>\n",
       "      <td>NaN</td>\n",
       "      <td>NaN</td>\n",
       "      <td>1</td>\n",
       "      <td>1</td>\n",
       "    </tr>\n",
       "    <tr>\n",
       "      <th>...</th>\n",
       "      <td>...</td>\n",
       "      <td>...</td>\n",
       "      <td>...</td>\n",
       "      <td>...</td>\n",
       "      <td>...</td>\n",
       "      <td>...</td>\n",
       "      <td>...</td>\n",
       "      <td>...</td>\n",
       "      <td>...</td>\n",
       "      <td>...</td>\n",
       "      <td>...</td>\n",
       "      <td>...</td>\n",
       "      <td>...</td>\n",
       "      <td>...</td>\n",
       "      <td>...</td>\n",
       "      <td>...</td>\n",
       "      <td>...</td>\n",
       "      <td>...</td>\n",
       "      <td>...</td>\n",
       "      <td>...</td>\n",
       "      <td>...</td>\n",
       "    </tr>\n",
       "    <tr>\n",
       "      <th>12303</th>\n",
       "      <td>27162</td>\n",
       "      <td>1/4 cup butter, softened. 1/3 cup brown sugar....</td>\n",
       "      <td>35</td>\n",
       "      <td>10</td>\n",
       "      <td>5</td>\n",
       "      <td>tropical baked bananas recipe</td>\n",
       "      <td>NaN</td>\n",
       "      <td>NaN</td>\n",
       "      <td>NaN</td>\n",
       "      <td>NaN</td>\n",
       "      <td>...</td>\n",
       "      <td>NaN</td>\n",
       "      <td>NaN</td>\n",
       "      <td>NaN</td>\n",
       "      <td>NaN</td>\n",
       "      <td>NaN</td>\n",
       "      <td>NaN</td>\n",
       "      <td>NaN</td>\n",
       "      <td>NaN</td>\n",
       "      <td>1</td>\n",
       "      <td>1</td>\n",
       "    </tr>\n",
       "    <tr>\n",
       "      <th>12308</th>\n",
       "      <td>27184</td>\n",
       "      <td>1 granny smith apple, cored. 1 tablespoon brow...</td>\n",
       "      <td>30</td>\n",
       "      <td>10</td>\n",
       "      <td>5</td>\n",
       "      <td>apples by the fire recipe</td>\n",
       "      <td>NaN</td>\n",
       "      <td>NaN</td>\n",
       "      <td>NaN</td>\n",
       "      <td>NaN</td>\n",
       "      <td>...</td>\n",
       "      <td>NaN</td>\n",
       "      <td>NaN</td>\n",
       "      <td>NaN</td>\n",
       "      <td>NaN</td>\n",
       "      <td>NaN</td>\n",
       "      <td>NaN</td>\n",
       "      <td>NaN</td>\n",
       "      <td>NaN</td>\n",
       "      <td>1</td>\n",
       "      <td>1</td>\n",
       "    </tr>\n",
       "    <tr>\n",
       "      <th>12320</th>\n",
       "      <td>27202</td>\n",
       "      <td>1 loaf french bread. 2 tablespoons prepared ho...</td>\n",
       "      <td>15</td>\n",
       "      <td>20</td>\n",
       "      <td>15</td>\n",
       "      <td>the big sandwich recipe</td>\n",
       "      <td>NaN</td>\n",
       "      <td>NaN</td>\n",
       "      <td>NaN</td>\n",
       "      <td>NaN</td>\n",
       "      <td>...</td>\n",
       "      <td>NaN</td>\n",
       "      <td>NaN</td>\n",
       "      <td>NaN</td>\n",
       "      <td>NaN</td>\n",
       "      <td>NaN</td>\n",
       "      <td>NaN</td>\n",
       "      <td>NaN</td>\n",
       "      <td>NaN</td>\n",
       "      <td>1</td>\n",
       "      <td>1</td>\n",
       "    </tr>\n",
       "    <tr>\n",
       "      <th>12322</th>\n",
       "      <td>27209</td>\n",
       "      <td>2 packages cream cheese, room temperature. 1/2...</td>\n",
       "      <td>125</td>\n",
       "      <td>30</td>\n",
       "      <td>10</td>\n",
       "      <td>nutella cheesecake recipe</td>\n",
       "      <td>NaN</td>\n",
       "      <td>NaN</td>\n",
       "      <td>0.50</td>\n",
       "      <td>NaN</td>\n",
       "      <td>...</td>\n",
       "      <td>1.0</td>\n",
       "      <td>NaN</td>\n",
       "      <td>NaN</td>\n",
       "      <td>NaN</td>\n",
       "      <td>NaN</td>\n",
       "      <td>NaN</td>\n",
       "      <td>NaN</td>\n",
       "      <td>NaN</td>\n",
       "      <td>1</td>\n",
       "      <td>1</td>\n",
       "    </tr>\n",
       "    <tr>\n",
       "      <th>12334</th>\n",
       "      <td>27251</td>\n",
       "      <td>1 bottle seasoning salt. 1/4 cup paprika. 2/3 ...</td>\n",
       "      <td>22</td>\n",
       "      <td>30</td>\n",
       "      <td>15</td>\n",
       "      <td>best bbq rub in texas recipe</td>\n",
       "      <td>NaN</td>\n",
       "      <td>NaN</td>\n",
       "      <td>NaN</td>\n",
       "      <td>NaN</td>\n",
       "      <td>...</td>\n",
       "      <td>NaN</td>\n",
       "      <td>NaN</td>\n",
       "      <td>NaN</td>\n",
       "      <td>NaN</td>\n",
       "      <td>NaN</td>\n",
       "      <td>NaN</td>\n",
       "      <td>NaN</td>\n",
       "      <td>NaN</td>\n",
       "      <td>1</td>\n",
       "      <td>1</td>\n",
       "    </tr>\n",
       "  </tbody>\n",
       "</table>\n",
       "<p>696 rows × 3762 columns</p>\n",
       "</div>"
      ],
      "text/plain": [
       "       RecipeID                                        Ingredients  \\\n",
       "19         7026  1 cup bread flour. 1 1/4 cups whole wheat flou...   \n",
       "68         7092  2 1/2 teaspoons active dry yeast. 1/4 cup warm...   \n",
       "161        7218  1 1/2 cups whole meal rye flour. 3/4 cup filte...   \n",
       "266        7346  1 package white cake mix. 1 cup sour cream. 2 ...   \n",
       "308        7409  11 ounces cream cheese, softened. 3/4 cup whit...   \n",
       "...         ...                                                ...   \n",
       "12303     27162  1/4 cup butter, softened. 1/3 cup brown sugar....   \n",
       "12308     27184  1 granny smith apple, cored. 1 tablespoon brow...   \n",
       "12320     27202  1 loaf french bread. 2 tablespoons prepared ho...   \n",
       "12322     27209  2 packages cream cheese, room temperature. 1/2...   \n",
       "12334     27251  1 bottle seasoning salt. 1/4 cup paprika. 2/3 ...   \n",
       "\n",
       "       ReviewCount  CookTimeMin  PrepTimeMin                       RecipeName  \\\n",
       "19              37          180            5     honey oatmeal bread i recipe   \n",
       "68              70          180           10  homemade wonderful bread recipe   \n",
       "161              5           30           15               rye starter recipe   \n",
       "266            121           30           30            coconut cake i recipe   \n",
       "308            205           30           15          strawberry torte recipe   \n",
       "...            ...          ...          ...                              ...   \n",
       "12303           35           10            5    tropical baked bananas recipe   \n",
       "12308           30           10            5        apples by the fire recipe   \n",
       "12320           15           20           15          the big sandwich recipe   \n",
       "12322          125           30           10        nutella cheesecake recipe   \n",
       "12334           22           30           15     best bbq rub in texas recipe   \n",
       "\n",
       "       yeast  water  white sugar  salt  ...  chocolatehazelnut spread  \\\n",
       "19      0.25   0.50          NaN   1.0  ...                       NaN   \n",
       "68      2.50   0.25          NaN   NaN  ...                       NaN   \n",
       "161      NaN   0.75          NaN   NaN  ...                       NaN   \n",
       "266      NaN    NaN         2.00   NaN  ...                       NaN   \n",
       "308      NaN    NaN         0.75   NaN  ...                       NaN   \n",
       "...      ...    ...          ...   ...  ...                       ...   \n",
       "12303    NaN    NaN          NaN   NaN  ...                       NaN   \n",
       "12308    NaN    NaN          NaN   NaN  ...                       NaN   \n",
       "12320    NaN    NaN          NaN   NaN  ...                       NaN   \n",
       "12322    NaN    NaN         0.50   NaN  ...                       1.0   \n",
       "12334    NaN    NaN          NaN   NaN  ...                       NaN   \n",
       "\n",
       "       loaf italian  cedar plank  pizza crust bread shell  \\\n",
       "19              NaN          NaN                      NaN   \n",
       "68              NaN          NaN                      NaN   \n",
       "161             NaN          NaN                      NaN   \n",
       "266             NaN          NaN                      NaN   \n",
       "308             NaN          NaN                      NaN   \n",
       "...             ...          ...                      ...   \n",
       "12303           NaN          NaN                      NaN   \n",
       "12308           NaN          NaN                      NaN   \n",
       "12320           NaN          NaN                      NaN   \n",
       "12322           NaN          NaN                      NaN   \n",
       "12334           NaN          NaN                      NaN   \n",
       "\n",
       "       buitoni pesto basil  brown sugar replacement  splenda granular  \\\n",
       "19                     NaN                      NaN               NaN   \n",
       "68                     NaN                      NaN               NaN   \n",
       "161                    NaN                      NaN               NaN   \n",
       "266                    NaN                      NaN               NaN   \n",
       "308                    NaN                      NaN               NaN   \n",
       "...                    ...                      ...               ...   \n",
       "12303                  NaN                      NaN               NaN   \n",
       "12308                  NaN                      NaN               NaN   \n",
       "12320                  NaN                      NaN               NaN   \n",
       "12322                  NaN                      NaN               NaN   \n",
       "12334                  NaN                      NaN               NaN   \n",
       "\n",
       "       treacle  label_IF  label_DBSCAN  \n",
       "19         NaN         1             1  \n",
       "68         NaN         1             1  \n",
       "161        NaN         1             1  \n",
       "266        NaN         1             1  \n",
       "308        NaN         1             1  \n",
       "...        ...       ...           ...  \n",
       "12303      NaN         1             1  \n",
       "12308      NaN         1             1  \n",
       "12320      NaN         1             1  \n",
       "12322      NaN         1             1  \n",
       "12334      NaN         1             1  \n",
       "\n",
       "[696 rows x 3762 columns]"
      ]
     },
     "execution_count": 62,
     "metadata": {},
     "output_type": "execute_result"
    }
   ],
   "source": [
    "du[du['label_DBSCAN'] ==1]"
   ]
  },
  {
   "cell_type": "code",
   "execution_count": null,
   "metadata": {},
   "outputs": [],
   "source": []
  }
 ],
 "metadata": {
  "kernelspec": {
   "display_name": "Python 3",
   "language": "python",
   "name": "python3"
  },
  "language_info": {
   "codemirror_mode": {
    "name": "ipython",
    "version": 3
   },
   "file_extension": ".py",
   "mimetype": "text/x-python",
   "name": "python",
   "nbconvert_exporter": "python",
   "pygments_lexer": "ipython3",
   "version": "3.7.3"
  }
 },
 "nbformat": 4,
 "nbformat_minor": 2
}
